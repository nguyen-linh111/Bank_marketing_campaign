{
 "cells": [
  {
   "cell_type": "code",
   "execution_count": 9,
   "id": "1b537046",
   "metadata": {},
   "outputs": [],
   "source": [
    "import numpy as np\n",
    "import pandas as pd\n",
    "import matplotlib.pyplot as plt\n",
    "import seaborn as sns\n",
    "%matplotlib inline\n",
    "import warnings\n",
    "warnings.filterwarnings('ignore')\n",
    "from sklearn.preprocessing import LabelEncoder\n",
    "from sklearn.model_selection import train_test_split\n",
    "from sklearn.model_selection import KFold\n",
    "from sklearn.model_selection import cross_val_score\n",
    "from sklearn.metrics import confusion_matrix, accuracy_score\n",
    "from sklearn.preprocessing import StandardScaler\n",
    "from sklearn.linear_model import LogisticRegression\n",
    "from sklearn.tree import DecisionTreeClassifier\n",
    "\n"
   ]
  },
  {
   "cell_type": "code",
   "execution_count": 10,
   "id": "b7dd37d8",
   "metadata": {},
   "outputs": [],
   "source": [
    "def read_file(path):\n",
    "    df= pd.read_csv(path, sep=';')\n",
    "    return df"
   ]
  },
  {
   "cell_type": "code",
   "execution_count": 11,
   "id": "1ff5e664",
   "metadata": {},
   "outputs": [],
   "source": [
    "\n",
    "def CatEncode(self):\n",
    "#    bool_feat=['y']\n",
    "    categorical_feats=['job','marital','education','default','housing','loan','contact','month','day_of_week','poutcome']\n",
    "    #Converting dependent variable categorical to dummy\n",
    "#    for x in bool_feat:\n",
    "#        df[x] = pd.get_dummies(df[x], columns = [x], prefix = [x], drop_first = True)\n",
    "    self.target = pd.get_dummies(self['y'], columns = ['y'], prefix = ['y'], drop_first = True)    \n",
    "    \n",
    "    def dropna(self):\n",
    "        self = self.replace('Unknown', np.nan)\n",
    "        self = self.dropna()\n",
    "    \n",
    "    def age(dataframe):\n",
    "        dataframe.loc[dataframe['age'] <= self['age'].quantile(q = 0.25), 'age'] = 1\n",
    "        dataframe.loc[(dataframe['age'] > self['age'].quantile(q = 0.25)) & (dataframe['age'] <= self['age'].quantile(q = 0.50)), 'age'] = 2\n",
    "        dataframe.loc[(dataframe['age'] > self['age'].quantile(q = 0.50)) & (dataframe['age'] <= self['age'].quantile(q = 0.75)), 'age'] = 3\n",
    "        dataframe.loc[(dataframe['age'] > self['age'].quantile(q = 0.75)) & (dataframe['age'] <= (self['age'].quantile(q = 0.75) + 1.5*(self['age'].quantile(q = 0.75) - self['age'].quantile(q = 0.25)))), 'age'] = 4\n",
    "        dataframe.loc[(dataframe['age'] > (self['age'].quantile(q = 0.75) \n",
    "                       + 1.5*(self['age'].quantile(q = 0.75) \n",
    "                              - self['age'].quantile(q = 0.25)))) & (dataframe['age'] <= self['age'].quantile(q = 1.00)), 'age'] = 5\n",
    "        return dataframe\n",
    "    age(self);\n",
    "    self['poutcome'].replace(['nonexistent', 'failure', 'success'], [1,2,3], inplace  = True)\n",
    "    def duration(data):\n",
    "        \n",
    "        #data.loc[(data['duration']) < self['duration'].quantile(q = 0.25), 'duration'] = 1\n",
    "        \n",
    "        data.loc[(data['duration']) <= self['duration'].quantile(q = 0.25), 'duration'] = 1\n",
    "        data.loc[(data['duration'] > self['duration'].quantile(q = 0.25)) & (data['duration'] <= self['duration'].quantile(q = 0.50))  , 'duration']    = 2\n",
    "        data.loc[(data['duration'] > self['duration'].quantile(q = 0.50)) & (data['duration'] <= self['duration'].quantile(q = 0.75))  , 'duration']   = 3\n",
    "        data.loc[(data['duration'] > self['duration'].quantile(q = 0.75)) & (data['duration'] <= self['duration'].quantile(q = 0.75) \n",
    "                                             + 1.5*(self['duration'].quantile(q = 0.75) \n",
    "                                                    - self['duration'].quantile(q = 0.25))), 'duration'] = 4\n",
    "        data.loc[data['duration']  > self['duration'].quantile(q = 0.75) + 1.5*(self['duration'].quantile(q = 0.75) \n",
    "                                                                              - self['duration'].quantile(q = 0.25)), 'duration'] = 5\n",
    "\n",
    "        return data\n",
    "    duration(self);\n",
    "    \n",
    "    # Label encoder order is alphabetical\n",
    "    from sklearn.preprocessing import LabelEncoder\n",
    "    labelencoder_X = LabelEncoder()\n",
    "    for x in categorical_feats:\n",
    "        self[x] = labelencoder_X.fit_transform(self[x]) \n",
    "    return self\n",
    "\n"
   ]
  },
  {
   "cell_type": "code",
   "execution_count": 12,
   "id": "9d6c40a4",
   "metadata": {},
   "outputs": [],
   "source": [
    "def test_train_split(X,y):\n",
    "    from sklearn.model_selection import train_test_split\n",
    "    X_train, X_test, y_train, y_test = train_test_split(X, y, test_size = 0.2, random_state = 42)\n",
    "\n",
    "    from sklearn.model_selection import KFold\n",
    "    from sklearn.model_selection import cross_val_score\n",
    "    from sklearn.metrics import confusion_matrix, accuracy_score\n",
    "    k_fold = KFold(n_splits=10, shuffle=True, random_state=0)\n",
    "    \n",
    "    from sklearn.preprocessing import StandardScaler\n",
    "    sc_X = StandardScaler()\n",
    "    X_train = sc_X.fit_transform(X_train)\n",
    "    X_test = sc_X.transform(X_test)\n",
    "    \n",
    "    return X_train, X_test, y_train, y_test"
   ]
  },
  {
   "cell_type": "code",
   "execution_count": 13,
   "id": "e4f61dbe",
   "metadata": {},
   "outputs": [],
   "source": [
    "def log_model(X_train, y_train):\n",
    "\n",
    "    from sklearn.linear_model import LogisticRegression\n",
    "    logmodel = LogisticRegression() \n",
    "    logmodel.fit(X_train,y_train)\n",
    "#    logpred = logmodel.predict(X_test)\n",
    "\n",
    "\n",
    "#    print(confusion_matrix(y_test, logpred))\n",
    "#    LOGCV = (cross_val_score(logmodel, X_train, y_train, cv=k_fold, n_jobs=1, scoring = 'accuracy').mean())\n",
    "#    print(\"Accuracy on Testing set of logistic model: \",accuracy_score(y_test, logpred))\n",
    "#    print(\"Accuracy on Traning set of logistic model: \",logmodel.score(X_train,y_train))\n",
    "    \n",
    "    return logmodel"
   ]
  },
  {
   "cell_type": "code",
   "execution_count": 14,
   "id": "79264136",
   "metadata": {},
   "outputs": [],
   "source": [
    "def dtree_model(X_train, y_train):\n",
    "\n",
    "    from sklearn.tree import DecisionTreeClassifier\n",
    "    dtree = DecisionTreeClassifier(criterion='gini') #criterion = entopy, gini\n",
    "    dtree.fit(X_train, y_train)\n",
    "#    dtreepred = dtree.predict(X_test)\n",
    "\n",
    "#    print(confusion_matrix(y_test, dtreepred))\n",
    "#    print(round(accuracy_score(y_test, dtreepred),2)*100)\n",
    "#    DTREECV = (cross_val_score(dtree, X_train, y_train, cv=k_fold, n_jobs=1, scoring = 'accuracy').mean())\n",
    "#    print(\"Accuracy on Traning set of decision tree model: \",dtree.score(X_train,y_train))\n",
    "#    print(\"Accuracy on Testing set of decision tree model: \",accuracy_score(y_test, dtreepred))\n",
    "    \n",
    "    return dtree"
   ]
  },
  {
   "cell_type": "code",
   "execution_count": 15,
   "id": "8ca18cf8",
   "metadata": {},
   "outputs": [],
   "source": [
    "def plot_AUC(logmodel, dtree, X_test, y_test):\n",
    "    from sklearn import metrics\n",
    "    fig, (ax, ax1) = plt.subplots(nrows = 1, ncols = 2, figsize = (15,5))\n",
    "    #Logistic\n",
    "    probs = logmodel.predict_proba(X_test)\n",
    "    preds = probs[:,1]\n",
    "    fprlog, tprlog, thresholdlog = metrics.roc_curve(y_test, preds)\n",
    "    roc_auclog = metrics.auc(fprlog, tprlog)\n",
    "\n",
    "    ax.plot(fprlog, tprlog, 'b', label = 'AUC = %0.2f' % roc_auclog)\n",
    "    ax.plot([0, 1], [0, 1],'r--')\n",
    "    ax.set_title('Receiver Operating Characteristic Logistic ',fontsize=10)\n",
    "    ax.set_ylabel('True Positive Rate',fontsize=20)\n",
    "    ax.set_xlabel('False Positive Rate',fontsize=15)\n",
    "    ax.legend(loc = 'lower right', prop={'size': 16})\n",
    "    \n",
    "    probs = dtree.predict_proba(X_test)\n",
    "    preds = probs[:,1]\n",
    "    fprdtree, tprdtree, thresholddtree = metrics.roc_curve(y_test, preds)\n",
    "    roc_aucdtree = metrics.auc(fprdtree, tprdtree)\n",
    "\n",
    "    ax1.plot(fprdtree, tprdtree, 'b', label = 'AUC = %0.2f' % roc_aucdtree)\n",
    "    ax1.plot([0, 1], [0, 1],'r--')\n",
    "    ax1.set_title('Receiver Operating Characteristic Decision Tree ',fontsize=10)\n",
    "    ax1.set_ylabel('True Positive Rate',fontsize=20)\n",
    "    ax1.set_xlabel('False Positive Rate',fontsize=15)\n",
    "    ax1.legend(loc = 'lower right', prop={'size': 16})\n",
    "\n",
    "    plt.subplots_adjust(wspace=1)"
   ]
  },
  {
   "cell_type": "code",
   "execution_count": 16,
   "id": "3e613daf",
   "metadata": {},
   "outputs": [
    {
     "name": "stdout",
     "output_type": "stream",
     "text": [
      "[[7136  167]\n",
      " [ 618  317]]\n",
      "0.9060394537177542\n",
      "Accuracy on Testing set of logistic model:  0.9047098810390871\n",
      "Accuracy on Traning set of logistic model:  0.9062215477996965\n",
      "[[6751  552]\n",
      " [ 523  412]]\n",
      "0.8710773899848254\n",
      "Accuracy on Traning set of decision tree model:  0.997298937784522\n",
      "Accuracy on Testing set of decision tree model:  0.8695071619325079\n"
     ]
    },
    {
     "data": {
      "image/png": "[encoded data removed]",
      "text/plain": [
       "<Figure size 1080x360 with 2 Axes>"
      ]
     },
     "metadata": {
      "needs_background": "light"
     },
     "output_type": "display_data"
    }
   ],
   "source": [
    "def main():\n",
    "    df= read_file('bank-additional-full.csv')\n",
    "    df=CatEncode(df)\n",
    "    y= df.target\n",
    "    X= df.iloc[:,0:20]\n",
    "\n",
    "    X_train, X_test, y_train, y_test = test_train_split(X,y)\n",
    "\n",
    "    logmodel = LogisticRegression() \n",
    "    logmodel.fit(X_train,y_train)\n",
    "    logpred = logmodel.predict(X_test)\n",
    "    \n",
    "    \n",
    "    k_fold = KFold(n_splits=10, shuffle=True, random_state=5)\n",
    "\n",
    "    print(confusion_matrix(y_test, logpred))\n",
    "    LOGCV=(cross_val_score(logmodel, X_train, y_train, cv=k_fold, n_jobs=1, scoring = 'accuracy').mean())\n",
    "    print(LOGCV)\n",
    "    print(\"Accuracy on Testing set of logistic model: \",accuracy_score(y_test, logpred))\n",
    "    print(\"Accuracy on Traning set of logistic model: \",logmodel.score(X_train,y_train))\n",
    "    \n",
    "    dtree = dtree_model(X_train, y_train)\n",
    "    dtreepred = dtree.predict(X_test)\n",
    "    print(confusion_matrix(y_test, dtreepred))\n",
    "    #print(round(accuracy_score(y_test, dtreepred),2)*100)\n",
    "    DTREECV = (cross_val_score(dtree, X_train, y_train, cv=k_fold, n_jobs=1, scoring = 'accuracy').mean())\n",
    "    print(DTREECV)\n",
    "    print(\"Accuracy on Traning set of decision tree model: \",dtree.score(X_train,y_train))\n",
    "    print(\"Accuracy on Testing set of decision tree model: \",accuracy_score(y_test, dtreepred))\n",
    "    \n",
    "    \n",
    "    plot_AUC(logmodel, dtree, X_test, y_test)\n",
    "#    y_predict_proba=predict_proba(model,X)\n",
    "#    ROC_AUC(y_predict_proba, y_true)\n",
    "\n",
    "    \n",
    "if __name__ == '__main__':\n",
    "    main()"
   ]
  },
  {
   "cell_type": "code",
   "execution_count": null,
   "id": "20572c8e",
   "metadata": {},
   "outputs": [],
   "source": []
  },
  {
   "cell_type": "code",
   "execution_count": null,
   "id": "8862a909",
   "metadata": {},
   "outputs": [],
   "source": []
  }
 ],
 "metadata": {
  "kernelspec": {
   "display_name": "Python 3 (ipykernel)",
   "language": "python",
   "name": "python3"
  },
  "language_info": {
   "codemirror_mode": {
    "name": "ipython",
    "version": 3
   },
   "file_extension": ".py",
   "mimetype": "text/x-python",
   "name": "python",
   "nbconvert_exporter": "python",
   "pygments_lexer": "ipython3",
   "version": "3.9.7"
  }
 },
 "nbformat": 4,
 "nbformat_minor": 5
}
