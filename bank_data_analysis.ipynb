{
  "cells": [
    {
      "cell_type": "code",
      "execution_count": 1,
      "metadata": {
        "id": "sG97c8Nnx522"
      },
      "outputs": [],
      "source": [
        "import numpy as np\n",
        "import pandas as pd\n",
        "import matplotlib.pyplot as plt\n",
        "import seaborn as sns\n",
        "%matplotlib inline\n",
        "import warnings\n",
        "warnings.filterwarnings('ignore')"
      ]
    },
    {
      "cell_type": "markdown",
      "metadata": {
        "id": "16n7tPFC341U"
      },
      "source": [
        "###Loading dataset"
      ]
    },
    {
      "cell_type": "markdown",
      "metadata": {
        "id": "3za5isHx5LFG"
      },
      "source": [
        "### Đây là dữ liệu của 1 chiến dịch tiếp thị trực tiếp (gọi điện thoại) của một ngân hàng"
      ]
    },
    {
      "cell_type": "code",
      "execution_count": 2,
      "metadata": {
        "id": "lBlMsfmhyEaN"
      },
      "outputs": [],
      "source": [
        "bank = pd.read_csv(\"/content/bank-additional-full.csv\", sep = ';')"
      ]
    },
    {
      "cell_type": "code",
      "execution_count": 3,
      "metadata": {
        "colab": {
          "base_uri": "https://localhost:8080/",
          "height": 299
        },
        "id": "RqMfSczby0Ix",
        "outputId": "391a44ee-045e-4c8b-9915-41b11112c8f3"
      },
      "outputs": [
        {
          "output_type": "execute_result",
          "data": {
            "text/html": [
              "\n",
              "  <div id=\"df-86fcf8c0-bae0-4c1f-bc6d-6e960a444c8a\">\n",
              "    <div class=\"colab-df-container\">\n",
              "      <div>\n",
              "<style scoped>\n",
              "    .dataframe tbody tr th:only-of-type {\n",
              "        vertical-align: middle;\n",
              "    }\n",
              "\n",
              "    .dataframe tbody tr th {\n",
              "        vertical-align: top;\n",
              "    }\n",
              "\n",
              "    .dataframe thead th {\n",
              "        text-align: right;\n",
              "    }\n",
              "</style>\n",
              "<table border=\"1\" class=\"dataframe\">\n",
              "  <thead>\n",
              "    <tr style=\"text-align: right;\">\n",
              "      <th></th>\n",
              "      <th>age</th>\n",
              "      <th>job</th>\n",
              "      <th>marital</th>\n",
              "      <th>education</th>\n",
              "      <th>default</th>\n",
              "      <th>housing</th>\n",
              "      <th>loan</th>\n",
              "      <th>contact</th>\n",
              "      <th>month</th>\n",
              "      <th>day_of_week</th>\n",
              "      <th>...</th>\n",
              "      <th>campaign</th>\n",
              "      <th>pdays</th>\n",
              "      <th>previous</th>\n",
              "      <th>poutcome</th>\n",
              "      <th>emp.var.rate</th>\n",
              "      <th>cons.price.idx</th>\n",
              "      <th>cons.conf.idx</th>\n",
              "      <th>euribor3m</th>\n",
              "      <th>nr.employed</th>\n",
              "      <th>y</th>\n",
              "    </tr>\n",
              "  </thead>\n",
              "  <tbody>\n",
              "    <tr>\n",
              "      <th>0</th>\n",
              "      <td>56</td>\n",
              "      <td>housemaid</td>\n",
              "      <td>married</td>\n",
              "      <td>basic.4y</td>\n",
              "      <td>no</td>\n",
              "      <td>no</td>\n",
              "      <td>no</td>\n",
              "      <td>telephone</td>\n",
              "      <td>may</td>\n",
              "      <td>mon</td>\n",
              "      <td>...</td>\n",
              "      <td>1</td>\n",
              "      <td>999</td>\n",
              "      <td>0</td>\n",
              "      <td>nonexistent</td>\n",
              "      <td>1.1</td>\n",
              "      <td>93.994</td>\n",
              "      <td>-36.4</td>\n",
              "      <td>4.857</td>\n",
              "      <td>5191.0</td>\n",
              "      <td>no</td>\n",
              "    </tr>\n",
              "    <tr>\n",
              "      <th>1</th>\n",
              "      <td>57</td>\n",
              "      <td>services</td>\n",
              "      <td>married</td>\n",
              "      <td>high.school</td>\n",
              "      <td>unknown</td>\n",
              "      <td>no</td>\n",
              "      <td>no</td>\n",
              "      <td>telephone</td>\n",
              "      <td>may</td>\n",
              "      <td>mon</td>\n",
              "      <td>...</td>\n",
              "      <td>1</td>\n",
              "      <td>999</td>\n",
              "      <td>0</td>\n",
              "      <td>nonexistent</td>\n",
              "      <td>1.1</td>\n",
              "      <td>93.994</td>\n",
              "      <td>-36.4</td>\n",
              "      <td>4.857</td>\n",
              "      <td>5191.0</td>\n",
              "      <td>no</td>\n",
              "    </tr>\n",
              "    <tr>\n",
              "      <th>2</th>\n",
              "      <td>37</td>\n",
              "      <td>services</td>\n",
              "      <td>married</td>\n",
              "      <td>high.school</td>\n",
              "      <td>no</td>\n",
              "      <td>yes</td>\n",
              "      <td>no</td>\n",
              "      <td>telephone</td>\n",
              "      <td>may</td>\n",
              "      <td>mon</td>\n",
              "      <td>...</td>\n",
              "      <td>1</td>\n",
              "      <td>999</td>\n",
              "      <td>0</td>\n",
              "      <td>nonexistent</td>\n",
              "      <td>1.1</td>\n",
              "      <td>93.994</td>\n",
              "      <td>-36.4</td>\n",
              "      <td>4.857</td>\n",
              "      <td>5191.0</td>\n",
              "      <td>no</td>\n",
              "    </tr>\n",
              "    <tr>\n",
              "      <th>3</th>\n",
              "      <td>40</td>\n",
              "      <td>admin.</td>\n",
              "      <td>married</td>\n",
              "      <td>basic.6y</td>\n",
              "      <td>no</td>\n",
              "      <td>no</td>\n",
              "      <td>no</td>\n",
              "      <td>telephone</td>\n",
              "      <td>may</td>\n",
              "      <td>mon</td>\n",
              "      <td>...</td>\n",
              "      <td>1</td>\n",
              "      <td>999</td>\n",
              "      <td>0</td>\n",
              "      <td>nonexistent</td>\n",
              "      <td>1.1</td>\n",
              "      <td>93.994</td>\n",
              "      <td>-36.4</td>\n",
              "      <td>4.857</td>\n",
              "      <td>5191.0</td>\n",
              "      <td>no</td>\n",
              "    </tr>\n",
              "    <tr>\n",
              "      <th>4</th>\n",
              "      <td>56</td>\n",
              "      <td>services</td>\n",
              "      <td>married</td>\n",
              "      <td>high.school</td>\n",
              "      <td>no</td>\n",
              "      <td>no</td>\n",
              "      <td>yes</td>\n",
              "      <td>telephone</td>\n",
              "      <td>may</td>\n",
              "      <td>mon</td>\n",
              "      <td>...</td>\n",
              "      <td>1</td>\n",
              "      <td>999</td>\n",
              "      <td>0</td>\n",
              "      <td>nonexistent</td>\n",
              "      <td>1.1</td>\n",
              "      <td>93.994</td>\n",
              "      <td>-36.4</td>\n",
              "      <td>4.857</td>\n",
              "      <td>5191.0</td>\n",
              "      <td>no</td>\n",
              "    </tr>\n",
              "  </tbody>\n",
              "</table>\n",
              "<p>5 rows × 21 columns</p>\n",
              "</div>\n",
              "      <button class=\"colab-df-convert\" onclick=\"convertToInteractive('df-86fcf8c0-bae0-4c1f-bc6d-6e960a444c8a')\"\n",
              "              title=\"Convert this dataframe to an interactive table.\"\n",
              "              style=\"display:none;\">\n",
              "        \n",
              "  <svg xmlns=\"http://www.w3.org/2000/svg\" height=\"24px\"viewBox=\"0 0 24 24\"\n",
              "       width=\"24px\">\n",
              "    <path d=\"M0 0h24v24H0V0z\" fill=\"none\"/>\n",
              "    <path d=\"M18.56 5.44l.94 2.06.94-2.06 2.06-.94-2.06-.94-.94-2.06-.94 2.06-2.06.94zm-11 1L8.5 8.5l.94-2.06 2.06-.94-2.06-.94L8.5 2.5l-.94 2.06-2.06.94zm10 10l.94 2.06.94-2.06 2.06-.94-2.06-.94-.94-2.06-.94 2.06-2.06.94z\"/><path d=\"M17.41 7.96l-1.37-1.37c-.4-.4-.92-.59-1.43-.59-.52 0-1.04.2-1.43.59L10.3 9.45l-7.72 7.72c-.78.78-.78 2.05 0 2.83L4 21.41c.39.39.9.59 1.41.59.51 0 1.02-.2 1.41-.59l7.78-7.78 2.81-2.81c.8-.78.8-2.07 0-2.86zM5.41 20L4 18.59l7.72-7.72 1.47 1.35L5.41 20z\"/>\n",
              "  </svg>\n",
              "      </button>\n",
              "      \n",
              "  <style>\n",
              "    .colab-df-container {\n",
              "      display:flex;\n",
              "      flex-wrap:wrap;\n",
              "      gap: 12px;\n",
              "    }\n",
              "\n",
              "    .colab-df-convert {\n",
              "      background-color: #E8F0FE;\n",
              "      border: none;\n",
              "      border-radius: 50%;\n",
              "      cursor: pointer;\n",
              "      display: none;\n",
              "      fill: #1967D2;\n",
              "      height: 32px;\n",
              "      padding: 0 0 0 0;\n",
              "      width: 32px;\n",
              "    }\n",
              "\n",
              "    .colab-df-convert:hover {\n",
              "      background-color: #E2EBFA;\n",
              "      box-shadow: 0px 1px 2px rgba(60, 64, 67, 0.3), 0px 1px 3px 1px rgba(60, 64, 67, 0.15);\n",
              "      fill: #174EA6;\n",
              "    }\n",
              "\n",
              "    [theme=dark] .colab-df-convert {\n",
              "      background-color: #3B4455;\n",
              "      fill: #D2E3FC;\n",
              "    }\n",
              "\n",
              "    [theme=dark] .colab-df-convert:hover {\n",
              "      background-color: #434B5C;\n",
              "      box-shadow: 0px 1px 3px 1px rgba(0, 0, 0, 0.15);\n",
              "      filter: drop-shadow(0px 1px 2px rgba(0, 0, 0, 0.3));\n",
              "      fill: #FFFFFF;\n",
              "    }\n",
              "  </style>\n",
              "\n",
              "      <script>\n",
              "        const buttonEl =\n",
              "          document.querySelector('#df-86fcf8c0-bae0-4c1f-bc6d-6e960a444c8a button.colab-df-convert');\n",
              "        buttonEl.style.display =\n",
              "          google.colab.kernel.accessAllowed ? 'block' : 'none';\n",
              "\n",
              "        async function convertToInteractive(key) {\n",
              "          const element = document.querySelector('#df-86fcf8c0-bae0-4c1f-bc6d-6e960a444c8a');\n",
              "          const dataTable =\n",
              "            await google.colab.kernel.invokeFunction('convertToInteractive',\n",
              "                                                     [key], {});\n",
              "          if (!dataTable) return;\n",
              "\n",
              "          const docLinkHtml = 'Like what you see? Visit the ' +\n",
              "            '<a target=\"_blank\" href=https://colab.research.google.com/notebooks/data_table.ipynb>data table notebook</a>'\n",
              "            + ' to learn more about interactive tables.';\n",
              "          element.innerHTML = '';\n",
              "          dataTable['output_type'] = 'display_data';\n",
              "          await google.colab.output.renderOutput(dataTable, element);\n",
              "          const docLink = document.createElement('div');\n",
              "          docLink.innerHTML = docLinkHtml;\n",
              "          element.appendChild(docLink);\n",
              "        }\n",
              "      </script>\n",
              "    </div>\n",
              "  </div>\n",
              "  "
            ],
            "text/plain": [
              "   age        job  marital    education  default housing loan    contact  \\\n",
              "0   56  housemaid  married     basic.4y       no      no   no  telephone   \n",
              "1   57   services  married  high.school  unknown      no   no  telephone   \n",
              "2   37   services  married  high.school       no     yes   no  telephone   \n",
              "3   40     admin.  married     basic.6y       no      no   no  telephone   \n",
              "4   56   services  married  high.school       no      no  yes  telephone   \n",
              "\n",
              "  month day_of_week  ...  campaign  pdays  previous     poutcome emp.var.rate  \\\n",
              "0   may         mon  ...         1    999         0  nonexistent          1.1   \n",
              "1   may         mon  ...         1    999         0  nonexistent          1.1   \n",
              "2   may         mon  ...         1    999         0  nonexistent          1.1   \n",
              "3   may         mon  ...         1    999         0  nonexistent          1.1   \n",
              "4   may         mon  ...         1    999         0  nonexistent          1.1   \n",
              "\n",
              "   cons.price.idx  cons.conf.idx  euribor3m  nr.employed   y  \n",
              "0          93.994          -36.4      4.857       5191.0  no  \n",
              "1          93.994          -36.4      4.857       5191.0  no  \n",
              "2          93.994          -36.4      4.857       5191.0  no  \n",
              "3          93.994          -36.4      4.857       5191.0  no  \n",
              "4          93.994          -36.4      4.857       5191.0  no  \n",
              "\n",
              "[5 rows x 21 columns]"
            ]
          },
          "metadata": {},
          "execution_count": 3
        }
      ],
      "source": [
        "bank.head()"
      ]
    },
    {
      "cell_type": "code",
      "execution_count": 4,
      "metadata": {
        "colab": {
          "base_uri": "https://localhost:8080/"
        },
        "id": "xc1RVAIG0Ina",
        "outputId": "e284261a-29b3-4a37-f5ff-ceba939cca51"
      },
      "outputs": [
        {
          "output_type": "stream",
          "name": "stdout",
          "text": [
            "<class 'pandas.core.frame.DataFrame'>\n",
            "RangeIndex: 41188 entries, 0 to 41187\n",
            "Data columns (total 21 columns):\n",
            " #   Column          Non-Null Count  Dtype  \n",
            "---  ------          --------------  -----  \n",
            " 0   age             41188 non-null  int64  \n",
            " 1   job             41188 non-null  object \n",
            " 2   marital         41188 non-null  object \n",
            " 3   education       41188 non-null  object \n",
            " 4   default         41188 non-null  object \n",
            " 5   housing         41188 non-null  object \n",
            " 6   loan            41188 non-null  object \n",
            " 7   contact         41188 non-null  object \n",
            " 8   month           41188 non-null  object \n",
            " 9   day_of_week     41188 non-null  object \n",
            " 10  duration        41188 non-null  int64  \n",
            " 11  campaign        41188 non-null  int64  \n",
            " 12  pdays           41188 non-null  int64  \n",
            " 13  previous        41188 non-null  int64  \n",
            " 14  poutcome        41188 non-null  object \n",
            " 15  emp.var.rate    41188 non-null  float64\n",
            " 16  cons.price.idx  41188 non-null  float64\n",
            " 17  cons.conf.idx   41188 non-null  float64\n",
            " 18  euribor3m       41188 non-null  float64\n",
            " 19  nr.employed     41188 non-null  float64\n",
            " 20  y               41188 non-null  object \n",
            "dtypes: float64(5), int64(5), object(11)\n",
            "memory usage: 6.6+ MB\n"
          ]
        }
      ],
      "source": [
        "bank.info()"
      ]
    },
    {
      "cell_type": "code",
      "execution_count": 5,
      "metadata": {
        "colab": {
          "base_uri": "https://localhost:8080/"
        },
        "id": "tPZYlILV9CFI",
        "outputId": "9977b104-39c1-45fd-e5c6-f135762acff3"
      },
      "outputs": [
        {
          "output_type": "execute_result",
          "data": {
            "text/plain": [
              "(41188, 21)"
            ]
          },
          "metadata": {},
          "execution_count": 5
        }
      ],
      "source": [
        "bank.shape"
      ]
    },
    {
      "cell_type": "code",
      "execution_count": 6,
      "metadata": {
        "colab": {
          "base_uri": "https://localhost:8080/"
        },
        "id": "ZLlF2TkK0UVE",
        "outputId": "9bde1b65-86e8-4b4b-d07c-09bb0fd8eead"
      },
      "outputs": [
        {
          "output_type": "execute_result",
          "data": {
            "text/plain": [
              "Index(['age', 'job', 'marital', 'education', 'default', 'housing', 'loan',\n",
              "       'contact', 'month', 'day_of_week', 'duration', 'campaign', 'pdays',\n",
              "       'previous', 'poutcome', 'emp.var.rate', 'cons.price.idx',\n",
              "       'cons.conf.idx', 'euribor3m', 'nr.employed', 'y'],\n",
              "      dtype='object')"
            ]
          },
          "metadata": {},
          "execution_count": 6
        }
      ],
      "source": [
        "bank.columns"
      ]
    },
    {
      "cell_type": "code",
      "source": [
        "bank.describe()"
      ],
      "metadata": {
        "colab": {
          "base_uri": "https://localhost:8080/",
          "height": 300
        },
        "id": "F4JNatN2IPCP",
        "outputId": "2ea1fc32-8742-45f3-b6bc-cff041df7691"
      },
      "execution_count": 7,
      "outputs": [
        {
          "output_type": "execute_result",
          "data": {
            "text/html": [
              "\n",
              "  <div id=\"df-8ad74de7-0d7e-4415-8890-f16e457f5aab\">\n",
              "    <div class=\"colab-df-container\">\n",
              "      <div>\n",
              "<style scoped>\n",
              "    .dataframe tbody tr th:only-of-type {\n",
              "        vertical-align: middle;\n",
              "    }\n",
              "\n",
              "    .dataframe tbody tr th {\n",
              "        vertical-align: top;\n",
              "    }\n",
              "\n",
              "    .dataframe thead th {\n",
              "        text-align: right;\n",
              "    }\n",
              "</style>\n",
              "<table border=\"1\" class=\"dataframe\">\n",
              "  <thead>\n",
              "    <tr style=\"text-align: right;\">\n",
              "      <th></th>\n",
              "      <th>age</th>\n",
              "      <th>duration</th>\n",
              "      <th>campaign</th>\n",
              "      <th>pdays</th>\n",
              "      <th>previous</th>\n",
              "      <th>emp.var.rate</th>\n",
              "      <th>cons.price.idx</th>\n",
              "      <th>cons.conf.idx</th>\n",
              "      <th>euribor3m</th>\n",
              "      <th>nr.employed</th>\n",
              "    </tr>\n",
              "  </thead>\n",
              "  <tbody>\n",
              "    <tr>\n",
              "      <th>count</th>\n",
              "      <td>41188.00000</td>\n",
              "      <td>41188.000000</td>\n",
              "      <td>41188.000000</td>\n",
              "      <td>41188.000000</td>\n",
              "      <td>41188.000000</td>\n",
              "      <td>41188.000000</td>\n",
              "      <td>41188.000000</td>\n",
              "      <td>41188.000000</td>\n",
              "      <td>41188.000000</td>\n",
              "      <td>41188.000000</td>\n",
              "    </tr>\n",
              "    <tr>\n",
              "      <th>mean</th>\n",
              "      <td>40.02406</td>\n",
              "      <td>258.285010</td>\n",
              "      <td>2.567593</td>\n",
              "      <td>962.475454</td>\n",
              "      <td>0.172963</td>\n",
              "      <td>0.081886</td>\n",
              "      <td>93.575664</td>\n",
              "      <td>-40.502600</td>\n",
              "      <td>3.621291</td>\n",
              "      <td>5167.035911</td>\n",
              "    </tr>\n",
              "    <tr>\n",
              "      <th>std</th>\n",
              "      <td>10.42125</td>\n",
              "      <td>259.279249</td>\n",
              "      <td>2.770014</td>\n",
              "      <td>186.910907</td>\n",
              "      <td>0.494901</td>\n",
              "      <td>1.570960</td>\n",
              "      <td>0.578840</td>\n",
              "      <td>4.628198</td>\n",
              "      <td>1.734447</td>\n",
              "      <td>72.251528</td>\n",
              "    </tr>\n",
              "    <tr>\n",
              "      <th>min</th>\n",
              "      <td>17.00000</td>\n",
              "      <td>0.000000</td>\n",
              "      <td>1.000000</td>\n",
              "      <td>0.000000</td>\n",
              "      <td>0.000000</td>\n",
              "      <td>-3.400000</td>\n",
              "      <td>92.201000</td>\n",
              "      <td>-50.800000</td>\n",
              "      <td>0.634000</td>\n",
              "      <td>4963.600000</td>\n",
              "    </tr>\n",
              "    <tr>\n",
              "      <th>25%</th>\n",
              "      <td>32.00000</td>\n",
              "      <td>102.000000</td>\n",
              "      <td>1.000000</td>\n",
              "      <td>999.000000</td>\n",
              "      <td>0.000000</td>\n",
              "      <td>-1.800000</td>\n",
              "      <td>93.075000</td>\n",
              "      <td>-42.700000</td>\n",
              "      <td>1.344000</td>\n",
              "      <td>5099.100000</td>\n",
              "    </tr>\n",
              "    <tr>\n",
              "      <th>50%</th>\n",
              "      <td>38.00000</td>\n",
              "      <td>180.000000</td>\n",
              "      <td>2.000000</td>\n",
              "      <td>999.000000</td>\n",
              "      <td>0.000000</td>\n",
              "      <td>1.100000</td>\n",
              "      <td>93.749000</td>\n",
              "      <td>-41.800000</td>\n",
              "      <td>4.857000</td>\n",
              "      <td>5191.000000</td>\n",
              "    </tr>\n",
              "    <tr>\n",
              "      <th>75%</th>\n",
              "      <td>47.00000</td>\n",
              "      <td>319.000000</td>\n",
              "      <td>3.000000</td>\n",
              "      <td>999.000000</td>\n",
              "      <td>0.000000</td>\n",
              "      <td>1.400000</td>\n",
              "      <td>93.994000</td>\n",
              "      <td>-36.400000</td>\n",
              "      <td>4.961000</td>\n",
              "      <td>5228.100000</td>\n",
              "    </tr>\n",
              "    <tr>\n",
              "      <th>max</th>\n",
              "      <td>98.00000</td>\n",
              "      <td>4918.000000</td>\n",
              "      <td>56.000000</td>\n",
              "      <td>999.000000</td>\n",
              "      <td>7.000000</td>\n",
              "      <td>1.400000</td>\n",
              "      <td>94.767000</td>\n",
              "      <td>-26.900000</td>\n",
              "      <td>5.045000</td>\n",
              "      <td>5228.100000</td>\n",
              "    </tr>\n",
              "  </tbody>\n",
              "</table>\n",
              "</div>\n",
              "      <button class=\"colab-df-convert\" onclick=\"convertToInteractive('df-8ad74de7-0d7e-4415-8890-f16e457f5aab')\"\n",
              "              title=\"Convert this dataframe to an interactive table.\"\n",
              "              style=\"display:none;\">\n",
              "        \n",
              "  <svg xmlns=\"http://www.w3.org/2000/svg\" height=\"24px\"viewBox=\"0 0 24 24\"\n",
              "       width=\"24px\">\n",
              "    <path d=\"M0 0h24v24H0V0z\" fill=\"none\"/>\n",
              "    <path d=\"M18.56 5.44l.94 2.06.94-2.06 2.06-.94-2.06-.94-.94-2.06-.94 2.06-2.06.94zm-11 1L8.5 8.5l.94-2.06 2.06-.94-2.06-.94L8.5 2.5l-.94 2.06-2.06.94zm10 10l.94 2.06.94-2.06 2.06-.94-2.06-.94-.94-2.06-.94 2.06-2.06.94z\"/><path d=\"M17.41 7.96l-1.37-1.37c-.4-.4-.92-.59-1.43-.59-.52 0-1.04.2-1.43.59L10.3 9.45l-7.72 7.72c-.78.78-.78 2.05 0 2.83L4 21.41c.39.39.9.59 1.41.59.51 0 1.02-.2 1.41-.59l7.78-7.78 2.81-2.81c.8-.78.8-2.07 0-2.86zM5.41 20L4 18.59l7.72-7.72 1.47 1.35L5.41 20z\"/>\n",
              "  </svg>\n",
              "      </button>\n",
              "      \n",
              "  <style>\n",
              "    .colab-df-container {\n",
              "      display:flex;\n",
              "      flex-wrap:wrap;\n",
              "      gap: 12px;\n",
              "    }\n",
              "\n",
              "    .colab-df-convert {\n",
              "      background-color: #E8F0FE;\n",
              "      border: none;\n",
              "      border-radius: 50%;\n",
              "      cursor: pointer;\n",
              "      display: none;\n",
              "      fill: #1967D2;\n",
              "      height: 32px;\n",
              "      padding: 0 0 0 0;\n",
              "      width: 32px;\n",
              "    }\n",
              "\n",
              "    .colab-df-convert:hover {\n",
              "      background-color: #E2EBFA;\n",
              "      box-shadow: 0px 1px 2px rgba(60, 64, 67, 0.3), 0px 1px 3px 1px rgba(60, 64, 67, 0.15);\n",
              "      fill: #174EA6;\n",
              "    }\n",
              "\n",
              "    [theme=dark] .colab-df-convert {\n",
              "      background-color: #3B4455;\n",
              "      fill: #D2E3FC;\n",
              "    }\n",
              "\n",
              "    [theme=dark] .colab-df-convert:hover {\n",
              "      background-color: #434B5C;\n",
              "      box-shadow: 0px 1px 3px 1px rgba(0, 0, 0, 0.15);\n",
              "      filter: drop-shadow(0px 1px 2px rgba(0, 0, 0, 0.3));\n",
              "      fill: #FFFFFF;\n",
              "    }\n",
              "  </style>\n",
              "\n",
              "      <script>\n",
              "        const buttonEl =\n",
              "          document.querySelector('#df-8ad74de7-0d7e-4415-8890-f16e457f5aab button.colab-df-convert');\n",
              "        buttonEl.style.display =\n",
              "          google.colab.kernel.accessAllowed ? 'block' : 'none';\n",
              "\n",
              "        async function convertToInteractive(key) {\n",
              "          const element = document.querySelector('#df-8ad74de7-0d7e-4415-8890-f16e457f5aab');\n",
              "          const dataTable =\n",
              "            await google.colab.kernel.invokeFunction('convertToInteractive',\n",
              "                                                     [key], {});\n",
              "          if (!dataTable) return;\n",
              "\n",
              "          const docLinkHtml = 'Like what you see? Visit the ' +\n",
              "            '<a target=\"_blank\" href=https://colab.research.google.com/notebooks/data_table.ipynb>data table notebook</a>'\n",
              "            + ' to learn more about interactive tables.';\n",
              "          element.innerHTML = '';\n",
              "          dataTable['output_type'] = 'display_data';\n",
              "          await google.colab.output.renderOutput(dataTable, element);\n",
              "          const docLink = document.createElement('div');\n",
              "          docLink.innerHTML = docLinkHtml;\n",
              "          element.appendChild(docLink);\n",
              "        }\n",
              "      </script>\n",
              "    </div>\n",
              "  </div>\n",
              "  "
            ],
            "text/plain": [
              "               age      duration      campaign         pdays      previous  \\\n",
              "count  41188.00000  41188.000000  41188.000000  41188.000000  41188.000000   \n",
              "mean      40.02406    258.285010      2.567593    962.475454      0.172963   \n",
              "std       10.42125    259.279249      2.770014    186.910907      0.494901   \n",
              "min       17.00000      0.000000      1.000000      0.000000      0.000000   \n",
              "25%       32.00000    102.000000      1.000000    999.000000      0.000000   \n",
              "50%       38.00000    180.000000      2.000000    999.000000      0.000000   \n",
              "75%       47.00000    319.000000      3.000000    999.000000      0.000000   \n",
              "max       98.00000   4918.000000     56.000000    999.000000      7.000000   \n",
              "\n",
              "       emp.var.rate  cons.price.idx  cons.conf.idx     euribor3m   nr.employed  \n",
              "count  41188.000000    41188.000000   41188.000000  41188.000000  41188.000000  \n",
              "mean       0.081886       93.575664     -40.502600      3.621291   5167.035911  \n",
              "std        1.570960        0.578840       4.628198      1.734447     72.251528  \n",
              "min       -3.400000       92.201000     -50.800000      0.634000   4963.600000  \n",
              "25%       -1.800000       93.075000     -42.700000      1.344000   5099.100000  \n",
              "50%        1.100000       93.749000     -41.800000      4.857000   5191.000000  \n",
              "75%        1.400000       93.994000     -36.400000      4.961000   5228.100000  \n",
              "max        1.400000       94.767000     -26.900000      5.045000   5228.100000  "
            ]
          },
          "metadata": {},
          "execution_count": 7
        }
      ]
    },
    {
      "cell_type": "code",
      "execution_count": 8,
      "metadata": {
        "colab": {
          "base_uri": "https://localhost:8080/"
        },
        "id": "qLXdv4yD9A91",
        "outputId": "23504b71-9e86-4146-c184-3f60f7e94512"
      },
      "outputs": [
        {
          "output_type": "execute_result",
          "data": {
            "text/plain": [
              "12"
            ]
          },
          "metadata": {},
          "execution_count": 8
        }
      ],
      "source": [
        "bank.duplicated().sum()"
      ]
    },
    {
      "cell_type": "code",
      "execution_count": 9,
      "metadata": {
        "colab": {
          "base_uri": "https://localhost:8080/"
        },
        "id": "KvXy5Mvi9KpP",
        "outputId": "5bc732b8-6bf8-476e-dba5-8b73696d2256"
      },
      "outputs": [
        {
          "output_type": "execute_result",
          "data": {
            "text/plain": [
              "(41176, 21)"
            ]
          },
          "metadata": {},
          "execution_count": 9
        }
      ],
      "source": [
        "bank=bank.drop_duplicates(keep='first')\n",
        "bank=bank.loc[:,~bank.columns.duplicated()]\n",
        "bank.shape"
      ]
    },
    {
      "cell_type": "markdown",
      "metadata": {
        "id": "bevuJtKK9VXi"
      },
      "source": [
        "### Tổng số khách hàng tham gia chiến dịch là 41176 người"
      ]
    },
    {
      "cell_type": "code",
      "source": [
        "bank['conversion'] = bank['y']\\\n",
        ".apply(lambda x: 1 if x=='yes' else 0)\n",
        "print('total conversions: {0} out of {1}'.format(bank.conversion.sum(),bank.shape[0]))\n",
        "print('conversion rate: {:.2%}'.format((bank.conversion.sum() / bank.shape[0])))"
      ],
      "metadata": {
        "id": "HwLf2weLNNif",
        "colab": {
          "base_uri": "https://localhost:8080/"
        },
        "outputId": "0c436686-b204-4e8b-9d3c-c61599174fad"
      },
      "execution_count": 10,
      "outputs": [
        {
          "output_type": "stream",
          "name": "stdout",
          "text": [
            "total conversions: 4639 out of 41176\n",
            "conversion rate: 11.27%\n"
          ]
        }
      ]
    },
    {
      "cell_type": "markdown",
      "metadata": {
        "id": "qOH3umrJ-I4l"
      },
      "source": [
        "### Số lượng khách hàng đồng ý mở tài khoản là 4639"
      ]
    },
    {
      "cell_type": "markdown",
      "metadata": {
        "id": "2lf8glpLkmtg"
      },
      "source": [
        "###Bank_Client\n",
        "Các thông tin khách hàng"
      ]
    },
    {
      "cell_type": "code",
      "execution_count": 11,
      "metadata": {
        "colab": {
          "base_uri": "https://localhost:8080/",
          "height": 206
        },
        "id": "mvXIc5d_kinT",
        "outputId": "45f3c7e7-e4f0-425c-9d9c-be15e674d445"
      },
      "outputs": [
        {
          "output_type": "execute_result",
          "data": {
            "text/html": [
              "\n",
              "  <div id=\"df-51a8efe4-0c27-4f53-9631-bc1d8430d7b2\">\n",
              "    <div class=\"colab-df-container\">\n",
              "      <div>\n",
              "<style scoped>\n",
              "    .dataframe tbody tr th:only-of-type {\n",
              "        vertical-align: middle;\n",
              "    }\n",
              "\n",
              "    .dataframe tbody tr th {\n",
              "        vertical-align: top;\n",
              "    }\n",
              "\n",
              "    .dataframe thead th {\n",
              "        text-align: right;\n",
              "    }\n",
              "</style>\n",
              "<table border=\"1\" class=\"dataframe\">\n",
              "  <thead>\n",
              "    <tr style=\"text-align: right;\">\n",
              "      <th></th>\n",
              "      <th>age</th>\n",
              "      <th>job</th>\n",
              "      <th>marital</th>\n",
              "      <th>education</th>\n",
              "      <th>default</th>\n",
              "      <th>housing</th>\n",
              "      <th>loan</th>\n",
              "    </tr>\n",
              "  </thead>\n",
              "  <tbody>\n",
              "    <tr>\n",
              "      <th>0</th>\n",
              "      <td>56</td>\n",
              "      <td>housemaid</td>\n",
              "      <td>married</td>\n",
              "      <td>basic.4y</td>\n",
              "      <td>no</td>\n",
              "      <td>no</td>\n",
              "      <td>no</td>\n",
              "    </tr>\n",
              "    <tr>\n",
              "      <th>1</th>\n",
              "      <td>57</td>\n",
              "      <td>services</td>\n",
              "      <td>married</td>\n",
              "      <td>high.school</td>\n",
              "      <td>unknown</td>\n",
              "      <td>no</td>\n",
              "      <td>no</td>\n",
              "    </tr>\n",
              "    <tr>\n",
              "      <th>2</th>\n",
              "      <td>37</td>\n",
              "      <td>services</td>\n",
              "      <td>married</td>\n",
              "      <td>high.school</td>\n",
              "      <td>no</td>\n",
              "      <td>yes</td>\n",
              "      <td>no</td>\n",
              "    </tr>\n",
              "    <tr>\n",
              "      <th>3</th>\n",
              "      <td>40</td>\n",
              "      <td>admin.</td>\n",
              "      <td>married</td>\n",
              "      <td>basic.6y</td>\n",
              "      <td>no</td>\n",
              "      <td>no</td>\n",
              "      <td>no</td>\n",
              "    </tr>\n",
              "    <tr>\n",
              "      <th>4</th>\n",
              "      <td>56</td>\n",
              "      <td>services</td>\n",
              "      <td>married</td>\n",
              "      <td>high.school</td>\n",
              "      <td>no</td>\n",
              "      <td>no</td>\n",
              "      <td>yes</td>\n",
              "    </tr>\n",
              "  </tbody>\n",
              "</table>\n",
              "</div>\n",
              "      <button class=\"colab-df-convert\" onclick=\"convertToInteractive('df-51a8efe4-0c27-4f53-9631-bc1d8430d7b2')\"\n",
              "              title=\"Convert this dataframe to an interactive table.\"\n",
              "              style=\"display:none;\">\n",
              "        \n",
              "  <svg xmlns=\"http://www.w3.org/2000/svg\" height=\"24px\"viewBox=\"0 0 24 24\"\n",
              "       width=\"24px\">\n",
              "    <path d=\"M0 0h24v24H0V0z\" fill=\"none\"/>\n",
              "    <path d=\"M18.56 5.44l.94 2.06.94-2.06 2.06-.94-2.06-.94-.94-2.06-.94 2.06-2.06.94zm-11 1L8.5 8.5l.94-2.06 2.06-.94-2.06-.94L8.5 2.5l-.94 2.06-2.06.94zm10 10l.94 2.06.94-2.06 2.06-.94-2.06-.94-.94-2.06-.94 2.06-2.06.94z\"/><path d=\"M17.41 7.96l-1.37-1.37c-.4-.4-.92-.59-1.43-.59-.52 0-1.04.2-1.43.59L10.3 9.45l-7.72 7.72c-.78.78-.78 2.05 0 2.83L4 21.41c.39.39.9.59 1.41.59.51 0 1.02-.2 1.41-.59l7.78-7.78 2.81-2.81c.8-.78.8-2.07 0-2.86zM5.41 20L4 18.59l7.72-7.72 1.47 1.35L5.41 20z\"/>\n",
              "  </svg>\n",
              "      </button>\n",
              "      \n",
              "  <style>\n",
              "    .colab-df-container {\n",
              "      display:flex;\n",
              "      flex-wrap:wrap;\n",
              "      gap: 12px;\n",
              "    }\n",
              "\n",
              "    .colab-df-convert {\n",
              "      background-color: #E8F0FE;\n",
              "      border: none;\n",
              "      border-radius: 50%;\n",
              "      cursor: pointer;\n",
              "      display: none;\n",
              "      fill: #1967D2;\n",
              "      height: 32px;\n",
              "      padding: 0 0 0 0;\n",
              "      width: 32px;\n",
              "    }\n",
              "\n",
              "    .colab-df-convert:hover {\n",
              "      background-color: #E2EBFA;\n",
              "      box-shadow: 0px 1px 2px rgba(60, 64, 67, 0.3), 0px 1px 3px 1px rgba(60, 64, 67, 0.15);\n",
              "      fill: #174EA6;\n",
              "    }\n",
              "\n",
              "    [theme=dark] .colab-df-convert {\n",
              "      background-color: #3B4455;\n",
              "      fill: #D2E3FC;\n",
              "    }\n",
              "\n",
              "    [theme=dark] .colab-df-convert:hover {\n",
              "      background-color: #434B5C;\n",
              "      box-shadow: 0px 1px 3px 1px rgba(0, 0, 0, 0.15);\n",
              "      filter: drop-shadow(0px 1px 2px rgba(0, 0, 0, 0.3));\n",
              "      fill: #FFFFFF;\n",
              "    }\n",
              "  </style>\n",
              "\n",
              "      <script>\n",
              "        const buttonEl =\n",
              "          document.querySelector('#df-51a8efe4-0c27-4f53-9631-bc1d8430d7b2 button.colab-df-convert');\n",
              "        buttonEl.style.display =\n",
              "          google.colab.kernel.accessAllowed ? 'block' : 'none';\n",
              "\n",
              "        async function convertToInteractive(key) {\n",
              "          const element = document.querySelector('#df-51a8efe4-0c27-4f53-9631-bc1d8430d7b2');\n",
              "          const dataTable =\n",
              "            await google.colab.kernel.invokeFunction('convertToInteractive',\n",
              "                                                     [key], {});\n",
              "          if (!dataTable) return;\n",
              "\n",
              "          const docLinkHtml = 'Like what you see? Visit the ' +\n",
              "            '<a target=\"_blank\" href=https://colab.research.google.com/notebooks/data_table.ipynb>data table notebook</a>'\n",
              "            + ' to learn more about interactive tables.';\n",
              "          element.innerHTML = '';\n",
              "          dataTable['output_type'] = 'display_data';\n",
              "          await google.colab.output.renderOutput(dataTable, element);\n",
              "          const docLink = document.createElement('div');\n",
              "          docLink.innerHTML = docLinkHtml;\n",
              "          element.appendChild(docLink);\n",
              "        }\n",
              "      </script>\n",
              "    </div>\n",
              "  </div>\n",
              "  "
            ],
            "text/plain": [
              "   age        job  marital    education  default housing loan\n",
              "0   56  housemaid  married     basic.4y       no      no   no\n",
              "1   57   services  married  high.school  unknown      no   no\n",
              "2   37   services  married  high.school       no     yes   no\n",
              "3   40     admin.  married     basic.6y       no      no   no\n",
              "4   56   services  married  high.school       no      no  yes"
            ]
          },
          "metadata": {},
          "execution_count": 11
        }
      ],
      "source": [
        "bank_client = bank.iloc[: , 0:7]\n",
        "bank_client.head()"
      ]
    },
    {
      "cell_type": "markdown",
      "metadata": {
        "id": "hQuen8b14trp"
      },
      "source": [
        "Age"
      ]
    },
    {
      "cell_type": "code",
      "execution_count": 12,
      "metadata": {
        "colab": {
          "base_uri": "https://localhost:8080/"
        },
        "id": "8-a6TCmf4m-h",
        "outputId": "71a1e437-42f2-4a9e-ed47-704a0ee98cf2"
      },
      "outputs": [
        {
          "output_type": "stream",
          "name": "stdout",
          "text": [
            "Min age:  98\n",
            "Max age:  17\n",
            "Null Values:  False\n"
          ]
        }
      ],
      "source": [
        "print('Min age: ', bank['age'].max())\n",
        "print('Max age: ', bank['age'].min())\n",
        "print('Null Values: ', bank['age'].isnull().any())"
      ]
    },
    {
      "cell_type": "code",
      "execution_count": 13,
      "metadata": {
        "colab": {
          "base_uri": "https://localhost:8080/",
          "height": 511
        },
        "id": "opA2JBar400F",
        "outputId": "d1904887-565a-4fb1-d3a0-aa53846aafaa"
      },
      "outputs": [
        {
          "output_type": "display_data",
          "data": {
            "image/png": "[encoded data removed]",
            "text/plain": [
              "<Figure size 1440x576 with 1 Axes>"
            ]
          },
          "metadata": {
            "needs_background": "light"
          }
        }
      ],
      "source": [
        "fig, ax = plt.subplots()\n",
        "fig.set_size_inches(20, 8)\n",
        "sns.countplot(x = 'age', data = bank)\n",
        "ax.set_xlabel('Age', fontsize=15)\n",
        "ax.set_ylabel('Count', fontsize=15)\n",
        "ax.set_title('Age Count Distribution', fontsize=15)\n",
        "sns.despine()"
      ]
    },
    {
      "cell_type": "markdown",
      "source": [
        "### Khách hàng tham gia chiến dịch có độ tuổi từ 17 - 98\n"
      ],
      "metadata": {
        "id": "DHAfX_apH_-x"
      }
    },
    {
      "cell_type": "code",
      "execution_count": 14,
      "metadata": {
        "id": "ywoPNo5fw4rz"
      },
      "outputs": [],
      "source": [
        "bank['age_group'] = pd.cut(bank['age'],[17,23,41,61,99],labels = ['17 - 22', '23 - 40','41 - 60', '60+'])"
      ]
    },
    {
      "cell_type": "code",
      "execution_count": 15,
      "metadata": {
        "colab": {
          "base_uri": "https://localhost:8080/",
          "height": 403
        },
        "id": "-1rkPjXZ16Iv",
        "outputId": "e10be545-5fc2-44aa-b45d-09ca66ffd1a6"
      },
      "outputs": [
        {
          "output_type": "display_data",
          "data": {
            "image/png": "[encoded data removed]",
            "text/plain": [
              "<Figure size 720x432 with 1 Axes>"
            ]
          },
          "metadata": {
            "needs_background": "light"
          }
        }
      ],
      "source": [
        "fig, ax = plt.subplots()\n",
        "fig.set_size_inches(10, 6)\n",
        "sns.countplot(x = 'age_group', data = bank)\n",
        "ax.set_xlabel('Age_group', fontsize=10)\n",
        "ax.set_ylabel('Count', fontsize=10)\n",
        "ax.set_title('Age_group Count Distribution', fontsize=10)\n",
        "ax.tick_params(labelsize=10)\n",
        "sns.despine()"
      ]
    },
    {
      "cell_type": "markdown",
      "metadata": {
        "id": "--w55ebw28Ba"
      },
      "source": [
        "### Nhóm khách hàng trẻ 23 - 40 là nhóm khách hàng tham gia chiến dịch nhiều nhất, tiếp đến là nhóm khách hàng từ 41 - 60 và nhóm khách hàng cao tuổi 60+ là nhóm có tỉ lệ tham gia chiến dịch thấp nhất"
      ]
    },
    {
      "cell_type": "code",
      "execution_count": 16,
      "metadata": {
        "colab": {
          "base_uri": "https://localhost:8080/",
          "height": 206
        },
        "id": "h2ynjgGPWXdd",
        "outputId": "4fc191f2-029c-4419-bbde-58fc5f479c26"
      },
      "outputs": [
        {
          "output_type": "execute_result",
          "data": {
            "text/html": [
              "\n",
              "  <div id=\"df-6f80255f-9c73-4790-9ba2-cf41dcc3cb98\">\n",
              "    <div class=\"colab-df-container\">\n",
              "      <div>\n",
              "<style scoped>\n",
              "    .dataframe tbody tr th:only-of-type {\n",
              "        vertical-align: middle;\n",
              "    }\n",
              "\n",
              "    .dataframe tbody tr th {\n",
              "        vertical-align: top;\n",
              "    }\n",
              "\n",
              "    .dataframe thead th {\n",
              "        text-align: right;\n",
              "    }\n",
              "</style>\n",
              "<table border=\"1\" class=\"dataframe\">\n",
              "  <thead>\n",
              "    <tr style=\"text-align: right;\">\n",
              "      <th></th>\n",
              "      <th>sum</th>\n",
              "      <th>count</th>\n",
              "      <th>conversion_rate</th>\n",
              "    </tr>\n",
              "    <tr>\n",
              "      <th>age_group</th>\n",
              "      <th></th>\n",
              "      <th></th>\n",
              "      <th></th>\n",
              "    </tr>\n",
              "  </thead>\n",
              "  <tbody>\n",
              "    <tr>\n",
              "      <th>17 - 22</th>\n",
              "      <td>168</td>\n",
              "      <td>600</td>\n",
              "      <td>28.000000</td>\n",
              "    </tr>\n",
              "    <tr>\n",
              "      <th>23 - 40</th>\n",
              "      <td>2664</td>\n",
              "      <td>24433</td>\n",
              "      <td>10.903287</td>\n",
              "    </tr>\n",
              "    <tr>\n",
              "      <th>41 - 60</th>\n",
              "      <td>1423</td>\n",
              "      <td>15302</td>\n",
              "      <td>9.299438</td>\n",
              "    </tr>\n",
              "    <tr>\n",
              "      <th>60+</th>\n",
              "      <td>382</td>\n",
              "      <td>836</td>\n",
              "      <td>45.693780</td>\n",
              "    </tr>\n",
              "  </tbody>\n",
              "</table>\n",
              "</div>\n",
              "      <button class=\"colab-df-convert\" onclick=\"convertToInteractive('df-6f80255f-9c73-4790-9ba2-cf41dcc3cb98')\"\n",
              "              title=\"Convert this dataframe to an interactive table.\"\n",
              "              style=\"display:none;\">\n",
              "        \n",
              "  <svg xmlns=\"http://www.w3.org/2000/svg\" height=\"24px\"viewBox=\"0 0 24 24\"\n",
              "       width=\"24px\">\n",
              "    <path d=\"M0 0h24v24H0V0z\" fill=\"none\"/>\n",
              "    <path d=\"M18.56 5.44l.94 2.06.94-2.06 2.06-.94-2.06-.94-.94-2.06-.94 2.06-2.06.94zm-11 1L8.5 8.5l.94-2.06 2.06-.94-2.06-.94L8.5 2.5l-.94 2.06-2.06.94zm10 10l.94 2.06.94-2.06 2.06-.94-2.06-.94-.94-2.06-.94 2.06-2.06.94z\"/><path d=\"M17.41 7.96l-1.37-1.37c-.4-.4-.92-.59-1.43-.59-.52 0-1.04.2-1.43.59L10.3 9.45l-7.72 7.72c-.78.78-.78 2.05 0 2.83L4 21.41c.39.39.9.59 1.41.59.51 0 1.02-.2 1.41-.59l7.78-7.78 2.81-2.81c.8-.78.8-2.07 0-2.86zM5.41 20L4 18.59l7.72-7.72 1.47 1.35L5.41 20z\"/>\n",
              "  </svg>\n",
              "      </button>\n",
              "      \n",
              "  <style>\n",
              "    .colab-df-container {\n",
              "      display:flex;\n",
              "      flex-wrap:wrap;\n",
              "      gap: 12px;\n",
              "    }\n",
              "\n",
              "    .colab-df-convert {\n",
              "      background-color: #E8F0FE;\n",
              "      border: none;\n",
              "      border-radius: 50%;\n",
              "      cursor: pointer;\n",
              "      display: none;\n",
              "      fill: #1967D2;\n",
              "      height: 32px;\n",
              "      padding: 0 0 0 0;\n",
              "      width: 32px;\n",
              "    }\n",
              "\n",
              "    .colab-df-convert:hover {\n",
              "      background-color: #E2EBFA;\n",
              "      box-shadow: 0px 1px 2px rgba(60, 64, 67, 0.3), 0px 1px 3px 1px rgba(60, 64, 67, 0.15);\n",
              "      fill: #174EA6;\n",
              "    }\n",
              "\n",
              "    [theme=dark] .colab-df-convert {\n",
              "      background-color: #3B4455;\n",
              "      fill: #D2E3FC;\n",
              "    }\n",
              "\n",
              "    [theme=dark] .colab-df-convert:hover {\n",
              "      background-color: #434B5C;\n",
              "      box-shadow: 0px 1px 3px 1px rgba(0, 0, 0, 0.15);\n",
              "      filter: drop-shadow(0px 1px 2px rgba(0, 0, 0, 0.3));\n",
              "      fill: #FFFFFF;\n",
              "    }\n",
              "  </style>\n",
              "\n",
              "      <script>\n",
              "        const buttonEl =\n",
              "          document.querySelector('#df-6f80255f-9c73-4790-9ba2-cf41dcc3cb98 button.colab-df-convert');\n",
              "        buttonEl.style.display =\n",
              "          google.colab.kernel.accessAllowed ? 'block' : 'none';\n",
              "\n",
              "        async function convertToInteractive(key) {\n",
              "          const element = document.querySelector('#df-6f80255f-9c73-4790-9ba2-cf41dcc3cb98');\n",
              "          const dataTable =\n",
              "            await google.colab.kernel.invokeFunction('convertToInteractive',\n",
              "                                                     [key], {});\n",
              "          if (!dataTable) return;\n",
              "\n",
              "          const docLinkHtml = 'Like what you see? Visit the ' +\n",
              "            '<a target=\"_blank\" href=https://colab.research.google.com/notebooks/data_table.ipynb>data table notebook</a>'\n",
              "            + ' to learn more about interactive tables.';\n",
              "          element.innerHTML = '';\n",
              "          dataTable['output_type'] = 'display_data';\n",
              "          await google.colab.output.renderOutput(dataTable, element);\n",
              "          const docLink = document.createElement('div');\n",
              "          docLink.innerHTML = docLinkHtml;\n",
              "          element.appendChild(docLink);\n",
              "        }\n",
              "      </script>\n",
              "    </div>\n",
              "  </div>\n",
              "  "
            ],
            "text/plain": [
              "            sum  count  conversion_rate\n",
              "age_group                              \n",
              "17 - 22     168    600        28.000000\n",
              "23 - 40    2664  24433        10.903287\n",
              "41 - 60    1423  15302         9.299438\n",
              "60+         382    836        45.693780"
            ]
          },
          "metadata": {},
          "execution_count": 16
        }
      ],
      "source": [
        "age_conversion = bank.groupby('age_group').agg({'conversion':['sum','count']}).droplevel(0,axis = 1)\n",
        "age_conversion['conversion_rate'] = age_conversion['sum']/age_conversion['count']*100\n",
        "age_conversion"
      ]
    },
    {
      "cell_type": "code",
      "execution_count": 17,
      "metadata": {
        "id": "IwkamZYCylCx",
        "colab": {
          "base_uri": "https://localhost:8080/",
          "height": 484
        },
        "outputId": "5a4d33ef-7505-4f69-8dbf-15156bcbc250"
      },
      "outputs": [
        {
          "output_type": "display_data",
          "data": {
            "image/png": "[encoded data removed]",
            "text/plain": [
              "<Figure size 720x504 with 1 Axes>"
            ]
          },
          "metadata": {
            "needs_background": "light"
          }
        }
      ],
      "source": [
        "ax = age_conversion['conversion_rate'].plot(kind='bar',color='skyblue',figsize=(10, 7),title='Conversion Rates by Age')\n",
        "ax.set_xlabel('Conversion rate (%)')\n",
        "ax.set_ylabel('Age')\n",
        "plt.show()"
      ]
    },
    {
      "cell_type": "markdown",
      "metadata": {
        "id": "C4RTbR2zeplA"
      },
      "source": [
        "### Nhóm khách hàng trong độ tuổi 60+ có tỉ lệ chuyển đổi cao. Có thể khách hàng nhóm này chủ yếu trong độ tuổi nghỉ hưu nên có xu hướng gửi tiết kiệm nhiều hơn. Tiếp đến là nhóm khách hàng nhóm khách hàng từ 17 - 22. Đây là nhóm khách hàng trong độ tuổi đi học"
      ]
    },
    {
      "cell_type": "code",
      "execution_count": 18,
      "metadata": {
        "id": "oL5c8PhnepNZ",
        "colab": {
          "base_uri": "https://localhost:8080/",
          "height": 206
        },
        "outputId": "5995ac5b-2ace-4e2b-e79c-79c2acde3ea9"
      },
      "outputs": [
        {
          "output_type": "execute_result",
          "data": {
            "text/html": [
              "\n",
              "  <div id=\"df-611ef505-ad3c-4bfb-bf1b-9b76374273d1\">\n",
              "    <div class=\"colab-df-container\">\n",
              "      <div>\n",
              "<style scoped>\n",
              "    .dataframe tbody tr th:only-of-type {\n",
              "        vertical-align: middle;\n",
              "    }\n",
              "\n",
              "    .dataframe tbody tr th {\n",
              "        vertical-align: top;\n",
              "    }\n",
              "\n",
              "    .dataframe thead th {\n",
              "        text-align: right;\n",
              "    }\n",
              "</style>\n",
              "<table border=\"1\" class=\"dataframe\">\n",
              "  <thead>\n",
              "    <tr style=\"text-align: right;\">\n",
              "      <th>job</th>\n",
              "      <th>admin.</th>\n",
              "      <th>blue-collar</th>\n",
              "      <th>entrepreneur</th>\n",
              "      <th>housemaid</th>\n",
              "      <th>management</th>\n",
              "      <th>retired</th>\n",
              "      <th>self-employed</th>\n",
              "      <th>services</th>\n",
              "      <th>student</th>\n",
              "      <th>technician</th>\n",
              "      <th>unemployed</th>\n",
              "      <th>unknown</th>\n",
              "    </tr>\n",
              "    <tr>\n",
              "      <th>age_group</th>\n",
              "      <th></th>\n",
              "      <th></th>\n",
              "      <th></th>\n",
              "      <th></th>\n",
              "      <th></th>\n",
              "      <th></th>\n",
              "      <th></th>\n",
              "      <th></th>\n",
              "      <th></th>\n",
              "      <th></th>\n",
              "      <th></th>\n",
              "      <th></th>\n",
              "    </tr>\n",
              "  </thead>\n",
              "  <tbody>\n",
              "    <tr>\n",
              "      <th>17 - 22</th>\n",
              "      <td>13</td>\n",
              "      <td>11</td>\n",
              "      <td>0</td>\n",
              "      <td>0</td>\n",
              "      <td>3</td>\n",
              "      <td>0</td>\n",
              "      <td>3</td>\n",
              "      <td>7</td>\n",
              "      <td>117</td>\n",
              "      <td>11</td>\n",
              "      <td>3</td>\n",
              "      <td>0</td>\n",
              "    </tr>\n",
              "    <tr>\n",
              "      <th>23 - 40</th>\n",
              "      <td>917</td>\n",
              "      <td>380</td>\n",
              "      <td>68</td>\n",
              "      <td>26</td>\n",
              "      <td>168</td>\n",
              "      <td>2</td>\n",
              "      <td>97</td>\n",
              "      <td>228</td>\n",
              "      <td>154</td>\n",
              "      <td>518</td>\n",
              "      <td>91</td>\n",
              "      <td>15</td>\n",
              "    </tr>\n",
              "    <tr>\n",
              "      <th>41 - 60</th>\n",
              "      <td>404</td>\n",
              "      <td>244</td>\n",
              "      <td>52</td>\n",
              "      <td>53</td>\n",
              "      <td>144</td>\n",
              "      <td>133</td>\n",
              "      <td>49</td>\n",
              "      <td>88</td>\n",
              "      <td>2</td>\n",
              "      <td>191</td>\n",
              "      <td>49</td>\n",
              "      <td>14</td>\n",
              "    </tr>\n",
              "    <tr>\n",
              "      <th>60+</th>\n",
              "      <td>17</td>\n",
              "      <td>3</td>\n",
              "      <td>4</td>\n",
              "      <td>27</td>\n",
              "      <td>13</td>\n",
              "      <td>299</td>\n",
              "      <td>0</td>\n",
              "      <td>0</td>\n",
              "      <td>0</td>\n",
              "      <td>10</td>\n",
              "      <td>1</td>\n",
              "      <td>8</td>\n",
              "    </tr>\n",
              "  </tbody>\n",
              "</table>\n",
              "</div>\n",
              "      <button class=\"colab-df-convert\" onclick=\"convertToInteractive('df-611ef505-ad3c-4bfb-bf1b-9b76374273d1')\"\n",
              "              title=\"Convert this dataframe to an interactive table.\"\n",
              "              style=\"display:none;\">\n",
              "        \n",
              "  <svg xmlns=\"http://www.w3.org/2000/svg\" height=\"24px\"viewBox=\"0 0 24 24\"\n",
              "       width=\"24px\">\n",
              "    <path d=\"M0 0h24v24H0V0z\" fill=\"none\"/>\n",
              "    <path d=\"M18.56 5.44l.94 2.06.94-2.06 2.06-.94-2.06-.94-.94-2.06-.94 2.06-2.06.94zm-11 1L8.5 8.5l.94-2.06 2.06-.94-2.06-.94L8.5 2.5l-.94 2.06-2.06.94zm10 10l.94 2.06.94-2.06 2.06-.94-2.06-.94-.94-2.06-.94 2.06-2.06.94z\"/><path d=\"M17.41 7.96l-1.37-1.37c-.4-.4-.92-.59-1.43-.59-.52 0-1.04.2-1.43.59L10.3 9.45l-7.72 7.72c-.78.78-.78 2.05 0 2.83L4 21.41c.39.39.9.59 1.41.59.51 0 1.02-.2 1.41-.59l7.78-7.78 2.81-2.81c.8-.78.8-2.07 0-2.86zM5.41 20L4 18.59l7.72-7.72 1.47 1.35L5.41 20z\"/>\n",
              "  </svg>\n",
              "      </button>\n",
              "      \n",
              "  <style>\n",
              "    .colab-df-container {\n",
              "      display:flex;\n",
              "      flex-wrap:wrap;\n",
              "      gap: 12px;\n",
              "    }\n",
              "\n",
              "    .colab-df-convert {\n",
              "      background-color: #E8F0FE;\n",
              "      border: none;\n",
              "      border-radius: 50%;\n",
              "      cursor: pointer;\n",
              "      display: none;\n",
              "      fill: #1967D2;\n",
              "      height: 32px;\n",
              "      padding: 0 0 0 0;\n",
              "      width: 32px;\n",
              "    }\n",
              "\n",
              "    .colab-df-convert:hover {\n",
              "      background-color: #E2EBFA;\n",
              "      box-shadow: 0px 1px 2px rgba(60, 64, 67, 0.3), 0px 1px 3px 1px rgba(60, 64, 67, 0.15);\n",
              "      fill: #174EA6;\n",
              "    }\n",
              "\n",
              "    [theme=dark] .colab-df-convert {\n",
              "      background-color: #3B4455;\n",
              "      fill: #D2E3FC;\n",
              "    }\n",
              "\n",
              "    [theme=dark] .colab-df-convert:hover {\n",
              "      background-color: #434B5C;\n",
              "      box-shadow: 0px 1px 3px 1px rgba(0, 0, 0, 0.15);\n",
              "      filter: drop-shadow(0px 1px 2px rgba(0, 0, 0, 0.3));\n",
              "      fill: #FFFFFF;\n",
              "    }\n",
              "  </style>\n",
              "\n",
              "      <script>\n",
              "        const buttonEl =\n",
              "          document.querySelector('#df-611ef505-ad3c-4bfb-bf1b-9b76374273d1 button.colab-df-convert');\n",
              "        buttonEl.style.display =\n",
              "          google.colab.kernel.accessAllowed ? 'block' : 'none';\n",
              "\n",
              "        async function convertToInteractive(key) {\n",
              "          const element = document.querySelector('#df-611ef505-ad3c-4bfb-bf1b-9b76374273d1');\n",
              "          const dataTable =\n",
              "            await google.colab.kernel.invokeFunction('convertToInteractive',\n",
              "                                                     [key], {});\n",
              "          if (!dataTable) return;\n",
              "\n",
              "          const docLinkHtml = 'Like what you see? Visit the ' +\n",
              "            '<a target=\"_blank\" href=https://colab.research.google.com/notebooks/data_table.ipynb>data table notebook</a>'\n",
              "            + ' to learn more about interactive tables.';\n",
              "          element.innerHTML = '';\n",
              "          dataTable['output_type'] = 'display_data';\n",
              "          await google.colab.output.renderOutput(dataTable, element);\n",
              "          const docLink = document.createElement('div');\n",
              "          docLink.innerHTML = docLinkHtml;\n",
              "          element.appendChild(docLink);\n",
              "        }\n",
              "      </script>\n",
              "    </div>\n",
              "  </div>\n",
              "  "
            ],
            "text/plain": [
              "job        admin.  blue-collar  entrepreneur  housemaid  management  retired  \\\n",
              "age_group                                                                      \n",
              "17 - 22        13           11             0          0           3        0   \n",
              "23 - 40       917          380            68         26         168        2   \n",
              "41 - 60       404          244            52         53         144      133   \n",
              "60+            17            3             4         27          13      299   \n",
              "\n",
              "job        self-employed  services  student  technician  unemployed  unknown  \n",
              "age_group                                                                     \n",
              "17 - 22                3         7      117          11           3        0  \n",
              "23 - 40               97       228      154         518          91       15  \n",
              "41 - 60               49        88        2         191          49       14  \n",
              "60+                    0         0        0          10           1        8  "
            ]
          },
          "metadata": {},
          "execution_count": 18
        }
      ],
      "source": [
        "age_job_conversion = bank.groupby(['age_group','job'])['conversion'].sum().unstack()\n",
        "age_job_conversion"
      ]
    },
    {
      "cell_type": "markdown",
      "source": [
        "### Sau khi visualise ta có thể thấy, nhóm 17 - 22 chủ yếu là học sinh và nhóm 60+ là người đã nghỉ hưu. Với 2 nhóm này có tỉ lệ chuyển đổi cao\n",
        "-> Action: Nên tập trung giới thiệu vào 2 nhóm khách hàng này (nhóm người trẻ và nhóm người già)"
      ],
      "metadata": {
        "id": "1prgJtSoqsQM"
      }
    },
    {
      "cell_type": "markdown",
      "metadata": {
        "id": "1vAm5vs939bg"
      },
      "source": [
        "###Categorical variable"
      ]
    },
    {
      "cell_type": "code",
      "execution_count": 19,
      "metadata": {
        "id": "Xr2v2sks39Aa",
        "colab": {
          "base_uri": "https://localhost:8080/"
        },
        "outputId": "61adab27-f5fa-4d14-8296-a091509e3838"
      },
      "outputs": [
        {
          "output_type": "stream",
          "name": "stdout",
          "text": [
            "job\n",
            "['housemaid' 'services' 'admin.' 'blue-collar' 'technician' 'retired'\n",
            " 'management' 'unemployed' 'self-employed' 'unknown' 'entrepreneur'\n",
            " 'student']\n",
            "marital\n",
            "['married' 'single' 'divorced' 'unknown']\n",
            "education\n",
            "['basic.4y' 'high.school' 'basic.6y' 'basic.9y' 'professional.course'\n",
            " 'unknown' 'university.degree' 'illiterate']\n",
            "default\n",
            "['no' 'unknown' 'yes']\n",
            "housing\n",
            "['no' 'yes' 'unknown']\n",
            "loan\n",
            "['no' 'yes' 'unknown']\n"
          ]
        }
      ],
      "source": [
        "for col in bank_client.select_dtypes(include='object').columns:\n",
        "    print(col)\n",
        "    print(bank_client[col].unique())"
      ]
    },
    {
      "cell_type": "markdown",
      "metadata": {
        "id": "yucNWHOJLg5s"
      },
      "source": [
        "#Job"
      ]
    },
    {
      "cell_type": "code",
      "execution_count": 20,
      "metadata": {
        "id": "1ks__rowfBgp",
        "colab": {
          "base_uri": "https://localhost:8080/",
          "height": 511
        },
        "outputId": "1c212c62-3a0a-4d84-b903-7f20837ddf2f"
      },
      "outputs": [
        {
          "output_type": "display_data",
          "data": {
            "image/png": "[encoded data removed]",
            "text/plain": [
              "<Figure size 1080x576 with 1 Axes>"
            ]
          },
          "metadata": {
            "needs_background": "light"
          }
        }
      ],
      "source": [
        "fig, ax = plt.subplots()\n",
        "fig.set_size_inches(15, 8)\n",
        "sns.countplot(x = 'job', data = bank)\n",
        "ax.set_xlabel('Job', fontsize=10)\n",
        "ax.set_ylabel('Count', fontsize=10)\n",
        "ax.set_title('Job Count Distribution', fontsize=10)\n",
        "ax.tick_params(labelsize=10)\n",
        "sns.despine()\n"
      ]
    },
    {
      "cell_type": "code",
      "execution_count": 21,
      "metadata": {
        "id": "A8hUtKfRsieS",
        "colab": {
          "base_uri": "https://localhost:8080/"
        },
        "outputId": "ed50b870-e613-4bcc-c9c2-d5718b09523e"
      },
      "outputs": [
        {
          "output_type": "stream",
          "name": "stdout",
          "text": [
            "admin.           0.253036\n",
            "blue-collar      0.224718\n",
            "technician       0.163663\n",
            "services         0.096343\n",
            "management       0.071012\n",
            "retired          0.041723\n",
            "entrepreneur     0.035360\n",
            "self-employed    0.034510\n",
            "housemaid        0.025743\n",
            "unemployed       0.024626\n",
            "student          0.021250\n",
            "unknown          0.008014\n",
            "Name: job, dtype: float64\n"
          ]
        }
      ],
      "source": [
        "job_ = bank.job.value_counts()/(bank.shape[0])\n",
        "print(job_)"
      ]
    },
    {
      "cell_type": "markdown",
      "metadata": {
        "id": "KL9FmM-6DVPb"
      },
      "source": [
        "Phần lớn khách hàng tham gia chiến dịch có nghề nghiệp là quản lý, công nhân và kỹ thuật viên"
      ]
    },
    {
      "cell_type": "code",
      "execution_count": 22,
      "metadata": {
        "id": "OMZuS4ydKti9",
        "colab": {
          "base_uri": "https://localhost:8080/"
        },
        "outputId": "85e852de-2b48-4383-c15b-883f55e8becc"
      },
      "outputs": [
        {
          "output_type": "execute_result",
          "data": {
            "text/plain": [
              "job\n",
              "admin.           12.966695\n",
              "blue-collar       6.895061\n",
              "entrepreneur      8.516484\n",
              "housemaid        10.000000\n",
              "management       11.217510\n",
              "retired          25.261932\n",
              "self-employed    10.485574\n",
              "services          8.142173\n",
              "student          31.428571\n",
              "technician       10.832468\n",
              "unemployed       14.201183\n",
              "unknown          11.212121\n",
              "Name: conversion, dtype: float64"
            ]
          },
          "metadata": {},
          "execution_count": 22
        }
      ],
      "source": [
        "conversion_rate_by_job = bank.groupby(by='job')['conversion'].sum() / bank.groupby(by='job')['conversion'].count() * 100.0\n",
        "conversion_rate_by_job"
      ]
    },
    {
      "cell_type": "code",
      "execution_count": 23,
      "metadata": {
        "id": "6OtdICAqKiev",
        "colab": {
          "base_uri": "https://localhost:8080/",
          "height": 519
        },
        "outputId": "94330bef-1ced-481d-be23-29dceb40d353"
      },
      "outputs": [
        {
          "output_type": "display_data",
          "data": {
            "image/png": "[encoded data removed]",
            "text/plain": [
              "<Figure size 720x504 with 1 Axes>"
            ]
          },
          "metadata": {
            "needs_background": "light"
          }
        }
      ],
      "source": [
        "ax = conversion_rate_by_job.plot(kind='bar',color='skyblue',figsize=(10, 7),title='Conversion Rates by Job')\n",
        "ax.set_xlabel('conversion rate (%)')\n",
        "ax.set_ylabel('Job')\n",
        "plt.show()"
      ]
    },
    {
      "cell_type": "markdown",
      "metadata": {
        "id": "DoEiS6k6LFAX"
      },
      "source": [
        "### Tỉ lệ chuyển đổi ở 3 nhóm khách hàng Học sinh, Người đã nghỉ hưu, Nhà quản lý là cao nhất trong khi đó họ không phải nhóm khách hàng tham gia chiến dịch lớn nhất. Trong khi đó, nhóm khách hàng công nhân và người làm dịch vụ có tỉ lệ chuyển đổi thấp nhất.\n",
        "###-> Nghề nghiệp không ảnh hưởng nhiều đến Conversion rate\n",
        "###-> Action: Tập trung quảng cáo các dịch vụ của ngân hàng đối với các nhóm khách hàng là Học sinh, Người đã nghỉ hưu, Nhà quản lý "
      ]
    },
    {
      "cell_type": "markdown",
      "metadata": {
        "id": "20kSBeGzf8xT"
      },
      "source": [
        "#Marital "
      ]
    },
    {
      "cell_type": "code",
      "execution_count": 24,
      "metadata": {
        "id": "GVADQhivNItb",
        "colab": {
          "base_uri": "https://localhost:8080/"
        },
        "outputId": "5c4a29af-08a8-4bba-e8e2-3c048353e1a9"
      },
      "outputs": [
        {
          "output_type": "execute_result",
          "data": {
            "text/plain": [
              "married     24921\n",
              "single      11564\n",
              "divorced     4611\n",
              "unknown        80\n",
              "Name: marital, dtype: int64"
            ]
          },
          "metadata": {},
          "execution_count": 24
        }
      ],
      "source": [
        "bank_client['marital'].value_counts()"
      ]
    },
    {
      "cell_type": "code",
      "execution_count": 25,
      "metadata": {
        "id": "amcXnte-D5iO",
        "colab": {
          "base_uri": "https://localhost:8080/",
          "height": 402
        },
        "outputId": "4a1e82ee-e911-47ec-be05-93d0de81591d"
      },
      "outputs": [
        {
          "output_type": "display_data",
          "data": {
            "image/png": "[encoded data removed]",
            "text/plain": [
              "<Figure size 720x432 with 1 Axes>"
            ]
          },
          "metadata": {
            "needs_background": "light"
          }
        }
      ],
      "source": [
        "fig, ax = plt.subplots()\n",
        "fig.set_size_inches(10, 6)\n",
        "sns.countplot(x = 'marital', data = bank)\n",
        "ax.set_xlabel('Marital', fontsize=10)\n",
        "ax.set_ylabel('Count', fontsize=10)\n",
        "ax.set_title('Marital  Count Distribution', fontsize=10)\n",
        "ax.tick_params(labelsize=10)\n",
        "sns.despine()"
      ]
    },
    {
      "cell_type": "code",
      "execution_count": 26,
      "metadata": {
        "id": "n4ZpLz1MLz9A",
        "colab": {
          "base_uri": "https://localhost:8080/"
        },
        "outputId": "d11b0173-ecd0-49a2-c30e-814caa73b21d"
      },
      "outputs": [
        {
          "output_type": "execute_result",
          "data": {
            "text/plain": [
              "marital\n",
              "divorced    10.323140\n",
              "married     10.156093\n",
              "single      14.008993\n",
              "unknown     15.000000\n",
              "Name: conversion, dtype: float64"
            ]
          },
          "metadata": {},
          "execution_count": 26
        }
      ],
      "source": [
        "conversion_rate_by_marital = bank.groupby(by='marital')['conversion'].sum() / bank.groupby(by='marital')['conversion'].count() * 100.0\n",
        "conversion_rate_by_marital"
      ]
    },
    {
      "cell_type": "code",
      "execution_count": 27,
      "metadata": {
        "id": "_cuJao6AMP7D",
        "colab": {
          "base_uri": "https://localhost:8080/",
          "height": 494
        },
        "outputId": "840993cb-fe6e-4b0a-ebf9-b5d058a3e1f9"
      },
      "outputs": [
        {
          "output_type": "display_data",
          "data": {
            "image/png": "[encoded data removed]",
            "text/plain": [
              "<Figure size 720x504 with 1 Axes>"
            ]
          },
          "metadata": {
            "needs_background": "light"
          }
        }
      ],
      "source": [
        "ax = conversion_rate_by_marital.plot(kind='bar',color='skyblue',figsize=(10, 7),title='Conversion Rates by Marital')\n",
        "ax.set_xlabel('conversion rate (%)')\n",
        "ax.set_ylabel('Marital')\n",
        "plt.show()"
      ]
    },
    {
      "cell_type": "markdown",
      "metadata": {
        "id": "IRfipjidModi"
      },
      "source": [
        "### Số lượng khách hàng tham gia chiến dịch với tình trạng hôn nhân là Đã kết hôn lớn nhất nhưng tỉ lệ chuyển đổi lại thấp nhất và nhóm khách hàng Độc thân có tỉ lệ chuyển đổi cao. "
      ]
    },
    {
      "cell_type": "markdown",
      "metadata": {
        "id": "gaBGTd8ogQT2"
      },
      "source": [
        "### Education"
      ]
    },
    {
      "cell_type": "code",
      "execution_count": 28,
      "metadata": {
        "id": "0O60s14esDiZ",
        "colab": {
          "base_uri": "https://localhost:8080/"
        },
        "outputId": "06b2bb1e-40db-49be-9de2-cbd70cab31af"
      },
      "outputs": [
        {
          "output_type": "execute_result",
          "data": {
            "text/plain": [
              "university.degree      12164\n",
              "high.school             9512\n",
              "basic.9y                6045\n",
              "professional.course     5240\n",
              "basic.4y                4176\n",
              "basic.6y                2291\n",
              "unknown                 1730\n",
              "illiterate                18\n",
              "Name: education, dtype: int64"
            ]
          },
          "metadata": {},
          "execution_count": 28
        }
      ],
      "source": [
        "bank_client['education'].value_counts()"
      ]
    },
    {
      "cell_type": "code",
      "execution_count": 29,
      "metadata": {
        "id": "dUQMkjIzgP5O",
        "colab": {
          "base_uri": "https://localhost:8080/",
          "height": 356
        },
        "outputId": "d5f04dc6-e0e0-49a2-8f39-cfb92e1cf49e"
      },
      "outputs": [
        {
          "output_type": "display_data",
          "data": {
            "image/png": "[encoded data removed]",
            "text/plain": [
              "<Figure size 1080x360 with 1 Axes>"
            ]
          },
          "metadata": {
            "needs_background": "light"
          }
        }
      ],
      "source": [
        "fig, ax = plt.subplots()\n",
        "fig.set_size_inches(15, 5)\n",
        "sns.countplot(x = 'education', data = bank)\n",
        "ax.set_xlabel('Education', fontsize=12)\n",
        "ax.set_ylabel('Count', fontsize=12)\n",
        "ax.set_title('Education Count Distribution', fontsize=12)\n",
        "ax.tick_params(labelsize=12)\n",
        "sns.despine()"
      ]
    },
    {
      "cell_type": "code",
      "execution_count": 30,
      "metadata": {
        "id": "FoD_7qTJXEOl",
        "colab": {
          "base_uri": "https://localhost:8080/",
          "height": 546
        },
        "outputId": "76f6a9f5-966d-4e11-ca10-8ea204463d96"
      },
      "outputs": [
        {
          "output_type": "display_data",
          "data": {
            "image/png": "[encoded data removed]",
            "text/plain": [
              "<Figure size 720x504 with 1 Axes>"
            ]
          },
          "metadata": {
            "needs_background": "light"
          }
        }
      ],
      "source": [
        "conversion_rate_by_education = bank.groupby(by='education')['conversion'].sum()/bank.groupby(by='education')['conversion'].count() * 100.0\n",
        "ax = conversion_rate_by_education.plot(kind='bar',color='skyblue',figsize=(10, 7),title='Conversion Rates by Education')\n",
        "ax.set_xlabel('conversion rate (%)')\n",
        "ax.set_ylabel('Education')\n",
        "plt.show()"
      ]
    },
    {
      "cell_type": "markdown",
      "metadata": {
        "id": "FtEIXOEjiobS"
      },
      "source": [
        "### Khách hàng nằm trong nhóm có bằng đại học có số lượng tham gia chiến dịch nhiều nhất và cũng là nhóm khách hàng có tỉ lệ chuyển đổi cao nhất. Nhóm khách hàng là Illiterate cũng có tỉ lệ chuyển đổi cao nhưng số lượng khách hàng tham gia quá ít. Ta cũng có thể thấy nhóm khách hàng có bằng đại học có tỉ lệ chuyển đổi cao \n",
        "-> Trình độ học vấn có ảnh hưởng đến tỉ lệ chuyển đổi\n",
        "-> Nên tập trung giới thiệu sản phẩm gửi tiết kiệm đến nhóm khách hàng có bằng đại học"
      ]
    },
    {
      "cell_type": "markdown",
      "metadata": {
        "id": "w9IbVx4Vgzid"
      },
      "source": [
        "###Default, Housing, Loan"
      ]
    },
    {
      "cell_type": "code",
      "source": [
        "bank_client['default'].value_counts()"
      ],
      "metadata": {
        "colab": {
          "base_uri": "https://localhost:8080/"
        },
        "id": "DWQ1VY89dGaM",
        "outputId": "400c683f-7037-4dac-8d90-933f9044af72"
      },
      "execution_count": 31,
      "outputs": [
        {
          "output_type": "execute_result",
          "data": {
            "text/plain": [
              "no         32577\n",
              "unknown     8596\n",
              "yes            3\n",
              "Name: default, dtype: int64"
            ]
          },
          "metadata": {},
          "execution_count": 31
        }
      ]
    },
    {
      "cell_type": "code",
      "execution_count": 32,
      "metadata": {
        "id": "vfR9v-p3g9zF",
        "colab": {
          "base_uri": "https://localhost:8080/",
          "height": 487
        },
        "outputId": "e459234c-5586-461f-fc4d-408014525a10"
      },
      "outputs": [
        {
          "output_type": "display_data",
          "data": {
            "image/png": "[encoded data removed]",
            "text/plain": [
              "<Figure size 1440x576 with 3 Axes>"
            ]
          },
          "metadata": {
            "needs_background": "light"
          }
        }
      ],
      "source": [
        "# Khách hàng có khoản nợ tín dụng không trả đươc?\n",
        "fig, (ax1, ax2, ax3) = plt.subplots(nrows = 1, ncols = 3, figsize = (20,8))\n",
        "sns.countplot(x = 'default', data = bank, ax = ax1, order = ['no', 'unknown', 'yes'])\n",
        "ax1.set_title('Default', fontsize=15)\n",
        "ax1.set_xlabel('')\n",
        "ax1.set_ylabel('Count', fontsize=15)\n",
        "ax1.tick_params(labelsize=15)\n",
        "\n",
        "# Khách hàng có khoản vay mua nhà?\n",
        "sns.countplot(x = 'housing', data = bank, ax = ax2, order = ['no', 'unknown', 'yes'])\n",
        "ax2.set_title('Housing', fontsize=15)\n",
        "ax2.set_xlabel('')\n",
        "ax2.set_ylabel('Count', fontsize=15)\n",
        "ax2.tick_params(labelsize=15)\n",
        "\n",
        "# Khách hàng có khoản vay cá nhân?\n",
        "sns.countplot(x = 'loan', data = bank, ax = ax3, order = ['no', 'unknown', 'yes'])\n",
        "ax3.set_title('Loan', fontsize=15)\n",
        "ax3.set_xlabel('')\n",
        "ax3.set_ylabel('Count', fontsize=15)\n",
        "ax3.tick_params(labelsize=15)\n",
        "\n",
        "plt.subplots_adjust(wspace=0.25)"
      ]
    },
    {
      "cell_type": "markdown",
      "source": [
        "###Phần lớn khách hàng tham gia chiến dịch đều không có các khoản vay tín dụng, khoản vay mua nhà và khoản vay cá nhân"
      ],
      "metadata": {
        "id": "33EsAEjierCD"
      }
    },
    {
      "cell_type": "code",
      "source": [
        "def get_visualization(feature, target):\n",
        "    a= pd.pivot_table(bank, values=target, index=feature, columns='conversion', aggfunc=len)\n",
        "    ax=(a.div(a.sum(0), axis=1)).plot(kind='bar', figsize=(10,7), width=0.5, cmap = 'crest', edgecolor=None)\n",
        "    plt.legend(labels=a.columns, fontsize=12)\n",
        "    plt.xticks(fontsize=12)\n",
        "    for spine in plt.gca().spines.values():\n",
        "        spine.set_visible(False)\n",
        "        plt.yticks([])\n",
        "    for p in ax.patches:\n",
        "        width, height = p.get_width(), p.get_height()\n",
        "        x,y = p.get_xy()\n",
        "        ax.annotate('{:.1%}'.format(height), (x, y+height +0.01))"
      ],
      "metadata": {
        "id": "7zkH86TQ5TRl"
      },
      "execution_count": 33,
      "outputs": []
    },
    {
      "cell_type": "code",
      "source": [
        "\n",
        "get_visualization('default','y')"
      ],
      "metadata": {
        "colab": {
          "base_uri": "https://localhost:8080/",
          "height": 487
        },
        "id": "wBjyBtEDWLw8",
        "outputId": "141be0a1-47ef-44fb-d155-70c717827adf"
      },
      "execution_count": 34,
      "outputs": [
        {
          "output_type": "display_data",
          "data": {
            "image/png": "[encoded data removed]",
            "text/plain": [
              "<Figure size 720x504 with 1 Axes>"
            ]
          },
          "metadata": {
            "needs_background": "light"
          }
        }
      ]
    },
    {
      "cell_type": "markdown",
      "source": [
        "###Tỉ lệ chuyển đổi ở nhóm khách hàng không trong tình trạng vỡ nợ cao hơn"
      ],
      "metadata": {
        "id": "ZXA8iOdBnlOn"
      }
    },
    {
      "cell_type": "code",
      "source": [
        "get_visualization('loan','y')"
      ],
      "metadata": {
        "colab": {
          "base_uri": "https://localhost:8080/",
          "height": 487
        },
        "id": "FwDggXhR65Xb",
        "outputId": "93af1320-55d7-4608-9820-273452798619"
      },
      "execution_count": 35,
      "outputs": [
        {
          "output_type": "display_data",
          "data": {
            "image/png": "[encoded data removed]",
            "text/plain": [
              "<Figure size 720x504 with 1 Axes>"
            ]
          },
          "metadata": {
            "needs_background": "light"
          }
        }
      ]
    },
    {
      "cell_type": "code",
      "source": [
        "get_visualization('housing','y')"
      ],
      "metadata": {
        "colab": {
          "base_uri": "https://localhost:8080/",
          "height": 487
        },
        "id": "1LCI-5CP7ELo",
        "outputId": "c10b0e72-11e8-47fa-a968-c4564b430f4c"
      },
      "execution_count": 36,
      "outputs": [
        {
          "output_type": "display_data",
          "data": {
            "image/png": "[encoded data removed]",
            "text/plain": [
              "<Figure size 720x504 with 1 Axes>"
            ]
          },
          "metadata": {
            "needs_background": "light"
          }
        }
      ]
    },
    {
      "cell_type": "markdown",
      "source": [
        "### Tỷ lệ chuyển đổi giữa nhóm khách hàng có khoản vay mua nhà và nhóm không có khoản vay mua nhà không có sự chênh lệch nhiều"
      ],
      "metadata": {
        "id": "yxP3P1eiX8UU"
      }
    },
    {
      "cell_type": "markdown",
      "metadata": {
        "id": "CDMh4PiMvZ9N"
      },
      "source": [
        "Month"
      ]
    },
    {
      "cell_type": "code",
      "execution_count": 37,
      "metadata": {
        "id": "UEdDH0rJvbN6",
        "colab": {
          "base_uri": "https://localhost:8080/"
        },
        "outputId": "de4a9e43-55e3-49b2-caf8-a778a15a5d4f"
      },
      "outputs": [
        {
          "output_type": "execute_result",
          "data": {
            "text/plain": [
              "array(['may', 'jun', 'jul', 'aug', 'oct', 'nov', 'dec', 'mar', 'apr',\n",
              "       'sep'], dtype=object)"
            ]
          },
          "metadata": {},
          "execution_count": 37
        }
      ],
      "source": [
        "bank['month'].unique()"
      ]
    },
    {
      "cell_type": "code",
      "execution_count": 38,
      "metadata": {
        "id": "CuAETdiBvITP",
        "colab": {
          "base_uri": "https://localhost:8080/",
          "height": 511
        },
        "outputId": "ac0b215b-b9bb-45b7-b664-820165940922"
      },
      "outputs": [
        {
          "output_type": "display_data",
          "data": {
            "image/png": "[encoded data removed]",
            "text/plain": [
              "<Figure size 1080x576 with 1 Axes>"
            ]
          },
          "metadata": {
            "needs_background": "light"
          }
        }
      ],
      "source": [
        "fig, ax = plt.subplots()\n",
        "fig.set_size_inches(15, 8)\n",
        "sns.countplot(x = 'month', data = bank)\n",
        "ax.set_xlabel('Month', fontsize=10)\n",
        "ax.set_ylabel('Count', fontsize=10)\n",
        "ax.set_title('Month Count Distribution', fontsize=10)\n",
        "ax.tick_params(labelsize=10)\n",
        "sns.despine()\n"
      ]
    },
    {
      "cell_type": "markdown",
      "metadata": {
        "id": "bRcAofrWu8l8"
      },
      "source": [
        "### Các tháng 5, 6, 7, 8 có số lượng contact nhiều nhất. Đặc biệt là tháng 5, số lượng khách hàng liên hệ lần cuối cùng trong năm cao gần gấp đôi tháng cao thứ 2(tháng 7)\n",
        "=> Chiến dịch tập trung vào mùa hè"
      ]
    },
    {
      "cell_type": "code",
      "execution_count": 39,
      "metadata": {
        "id": "rXmcQ2Q9u7Gc",
        "colab": {
          "base_uri": "https://localhost:8080/",
          "height": 470
        },
        "outputId": "91a773b0-29cc-4096-f3f5-ba8bd50416c8"
      },
      "outputs": [
        {
          "output_type": "display_data",
          "data": {
            "image/png": "[encoded data removed]",
            "text/plain": [
              "<Figure size 720x504 with 1 Axes>"
            ]
          },
          "metadata": {
            "needs_background": "light"
          }
        }
      ],
      "source": [
        "conversion_rate_by_month = bank.groupby(by='month')['conversion'].sum() / bank.groupby(by='month')['conversion'].count() * 100.0\n",
        "ax = conversion_rate_by_month.plot(kind='bar',color='skyblue',figsize=(10, 7),title='Conversion Rates by Month')\n",
        "ax.set_xlabel('conversion rate (%)')\n",
        "ax.set_ylabel('Month')\n",
        "plt.show()"
      ]
    },
    {
      "cell_type": "markdown",
      "source": [
        "### Các tháng 3,9,12 có tỉ lệ chuyển đổi cao. Mặc dù số lượng các cuộc gọi ở các tháng này là khá thấp. \n",
        "-> Nên tập trung contact vào các tháng cuối quý để thu hút được nhiều khách hàng hơn"
      ],
      "metadata": {
        "id": "qRT6f-C1LN-_"
      }
    },
    {
      "cell_type": "markdown",
      "source": [
        "###Day of week "
      ],
      "metadata": {
        "id": "N-k6_2gl7gzO"
      }
    },
    {
      "cell_type": "code",
      "source": [
        "day_contact = bank.day_of_week.value_counts()/(bank.shape[0])\n",
        "print(day_contact)"
      ],
      "metadata": {
        "colab": {
          "base_uri": "https://localhost:8080/"
        },
        "id": "FNtOoryQ7geK",
        "outputId": "bcbe2c2a-e3d2-4cf2-e510-000f379a25d8"
      },
      "execution_count": 40,
      "outputs": [
        {
          "output_type": "stream",
          "name": "stdout",
          "text": [
            "thu    0.209297\n",
            "mon    0.206722\n",
            "wed    0.197542\n",
            "tue    0.196377\n",
            "fri    0.190062\n",
            "Name: day_of_week, dtype: float64\n"
          ]
        }
      ]
    },
    {
      "cell_type": "markdown",
      "source": [
        "###Chiến dịch diễn ra vào các ngày trong tuần là các ngày làm việc của ngân hàng. Nhìn chung, các ngày đều có số lượng contact đều nhau"
      ],
      "metadata": {
        "id": "N6tornhX80D4"
      }
    },
    {
      "cell_type": "code",
      "source": [
        "conversion_rate_by_day = bank.groupby(by='day_of_week')['conversion'].sum() / bank.groupby(by='day_of_week')['conversion'].count() * 100.0\n",
        "conversion_rate_by_day"
      ],
      "metadata": {
        "colab": {
          "base_uri": "https://localhost:8080/"
        },
        "id": "iL56gWtp9hkg",
        "outputId": "cd382bf0-084e-466f-bcc2-169fa44fc11c"
      },
      "execution_count": 41,
      "outputs": [
        {
          "output_type": "execute_result",
          "data": {
            "text/plain": [
              "day_of_week\n",
              "fri    10.810120\n",
              "mon     9.950658\n",
              "thu    12.114180\n",
              "tue    11.785803\n",
              "wed    11.667076\n",
              "Name: conversion, dtype: float64"
            ]
          },
          "metadata": {},
          "execution_count": 41
        }
      ]
    },
    {
      "cell_type": "code",
      "source": [
        "get_visualization('day_of_week','y')"
      ],
      "metadata": {
        "colab": {
          "base_uri": "https://localhost:8080/",
          "height": 466
        },
        "id": "yALxOepB5yFC",
        "outputId": "5885a50a-9fd1-4149-dee6-f4cc6fe2508c"
      },
      "execution_count": 42,
      "outputs": [
        {
          "output_type": "display_data",
          "data": {
            "image/png": "[encoded data removed]",
            "text/plain": [
              "<Figure size 720x504 with 1 Axes>"
            ]
          },
          "metadata": {
            "needs_background": "light"
          }
        }
      ]
    },
    {
      "cell_type": "markdown",
      "source": [
        "### Từ biểu đồ ta có thể thấy các ngày giữa tuần có tỉ lệ chuyển đổi cao hơn 2 ngày đầu tuần và cuối tuần \n",
        "###-> Action: Nên tập trung contact vào các ngày giữa tuần để có nhiều khách hàng hơn"
      ],
      "metadata": {
        "id": "0bUMBIdTAiwE"
      }
    },
    {
      "cell_type": "markdown",
      "source": [
        "###Type of contact"
      ],
      "metadata": {
        "id": "jEVJZDBkBT3A"
      }
    },
    {
      "cell_type": "code",
      "source": [
        "bank['contact'].value_counts()"
      ],
      "metadata": {
        "colab": {
          "base_uri": "https://localhost:8080/"
        },
        "id": "r1mhMZg1AhKs",
        "outputId": "7c4fc0e5-1e0d-49d2-c48f-231f9ec3d72a"
      },
      "execution_count": 43,
      "outputs": [
        {
          "output_type": "execute_result",
          "data": {
            "text/plain": [
              "cellular     26135\n",
              "telephone    15041\n",
              "Name: contact, dtype: int64"
            ]
          },
          "metadata": {},
          "execution_count": 43
        }
      ]
    },
    {
      "cell_type": "code",
      "source": [
        "fig, ax = plt.subplots()\n",
        "fig.set_size_inches(10, 7)\n",
        "sns.countplot(x = 'contact', data = bank)\n",
        "ax.set_xlabel('Type', fontsize=10)\n",
        "ax.set_ylabel('Count', fontsize=10)\n",
        "ax.set_title('Tyoe_of_contact', fontsize=10)\n",
        "ax.tick_params(labelsize=10)\n",
        "sns.despine()"
      ],
      "metadata": {
        "colab": {
          "base_uri": "https://localhost:8080/",
          "height": 456
        },
        "id": "X38sGidpoxqG",
        "outputId": "7397d3d4-cbc9-45b1-be10-e03fd9318d99"
      },
      "execution_count": 44,
      "outputs": [
        {
          "output_type": "display_data",
          "data": {
            "image/png": "[encoded data removed]",
            "text/plain": [
              "<Figure size 720x504 with 1 Axes>"
            ]
          },
          "metadata": {
            "needs_background": "light"
          }
        }
      ]
    },
    {
      "cell_type": "markdown",
      "source": [
        "#Số lượng khách hàng sử dụng điện thoại di động cao hơn rất nhiều so với khách hàng sử dụng điện thoại bàn"
      ],
      "metadata": {
        "id": "KAK1Is7Np5fs"
      }
    },
    {
      "cell_type": "code",
      "source": [
        "conversion_rate_contact = bank.groupby(by='contact')['conversion'].sum() / bank.groupby(by='contact')['conversion'].count() * 100.0\n",
        "conversion_rate_contact"
      ],
      "metadata": {
        "colab": {
          "base_uri": "https://localhost:8080/"
        },
        "id": "dxoa9PGCFFMz",
        "outputId": "074f3ec1-00cd-450f-c322-615cfe2d29f3"
      },
      "execution_count": 45,
      "outputs": [
        {
          "output_type": "execute_result",
          "data": {
            "text/plain": [
              "contact\n",
              "cellular     14.738856\n",
              "telephone     5.232365\n",
              "Name: conversion, dtype: float64"
            ]
          },
          "metadata": {},
          "execution_count": 45
        }
      ]
    },
    {
      "cell_type": "code",
      "source": [
        "fig, ax = plt.subplots(figsize=(10,4))\n",
        "conversion_rate_contact.plot(kind='bar',color='skyblue',figsize=[7,5])\n",
        "ax.set_title('Conversion Rates by Type of Contact')\n",
        "ax.set_xlabel('Type of contact')\n",
        "ax.set_ylabel('Conversion rate (%)')\n",
        "plt.show()"
      ],
      "metadata": {
        "id": "5Bs1Jfj4BoyU",
        "colab": {
          "base_uri": "https://localhost:8080/",
          "height": 390
        },
        "outputId": "d6eb051d-e450-4b5c-f657-12c3ecd954ca"
      },
      "execution_count": 46,
      "outputs": [
        {
          "output_type": "display_data",
          "data": {
            "image/png": "[encoded data removed]",
            "text/plain": [
              "<Figure size 504x360 with 1 Axes>"
            ]
          },
          "metadata": {
            "needs_background": "light"
          }
        }
      ]
    },
    {
      "cell_type": "markdown",
      "source": [
        "### Tỉ lệ chuyển đổi ở nhóm khách hàng liên hệ bằng điện thoại di động cao gần gấp 3 lần so với điện thoại bàn\n",
        "-> Nên tăng cường liên lạc với nhóm khách hàng sử dụng điện thoại di động "
      ],
      "metadata": {
        "id": "plV2X-BGF-GP"
      }
    },
    {
      "cell_type": "markdown",
      "source": [
        "###Duration "
      ],
      "metadata": {
        "id": "GWjasVcLI-HN"
      }
    },
    {
      "cell_type": "code",
      "source": [
        "avg_duration = bank['duration'].mean()\n",
        "avg_duration"
      ],
      "metadata": {
        "colab": {
          "base_uri": "https://localhost:8080/"
        },
        "id": "Kp_aVAuIJlbw",
        "outputId": "7b170ef2-571e-48b0-cf49-d0f09aa5daf7"
      },
      "execution_count": 47,
      "outputs": [
        {
          "output_type": "execute_result",
          "data": {
            "text/plain": [
              "258.3158150378861"
            ]
          },
          "metadata": {},
          "execution_count": 47
        }
      ]
    },
    {
      "cell_type": "markdown",
      "source": [
        "### Thời gian liên lạc trung bình với 1 khách hàng khoảng 4.3 phút"
      ],
      "metadata": {
        "id": "zXrSBIpKOhvT"
      }
    },
    {
      "cell_type": "code",
      "source": [
        "sns.set(rc={'figure.figsize':(10,7)})\n",
        "sns.set_style('whitegrid')\n",
        "avg_duration\n",
        "lst = [bank]\n",
        "bank[\"duration_status\"] = np.nan\n",
        "for col in lst:\n",
        "    col.loc[col[\"duration\"] < avg_duration, \"duration_status\"] = \"below_average\"\n",
        "    col.loc[col[\"duration\"] > avg_duration, \"duration_status\"] = \"above_average\"\n",
        "pct_term = pd.crosstab(bank['duration_status'], bank['conversion']).apply(lambda r: round(r/r.sum(), 2) * 100, axis=1)\n",
        "\n",
        "ax = pct_term.plot(kind='bar', stacked=False, cmap = 'crest')\n",
        "plt.title(\"The Impact of Duration \\n in Opening a Term Deposit\", fontsize=18)\n",
        "plt.xlabel(\"Duration Status\", fontsize=18);\n",
        "plt.ylabel(\"Percentage (%)\", fontsize=18)\n",
        "\n",
        "for p in ax.patches:\n",
        "    ax.annotate(str(p.get_height()), (p.get_x() * 1.02, p.get_height() * 1.02))\n",
        "    \n",
        "plt.show()"
      ],
      "metadata": {
        "colab": {
          "base_uri": "https://localhost:8080/",
          "height": 568
        },
        "id": "DtDM4ux8K6Zf",
        "outputId": "5dc4b454-0eaa-4e06-ec8c-47da51c5c6d7"
      },
      "execution_count": 48,
      "outputs": [
        {
          "output_type": "display_data",
          "data": {
            "image/png": "[encoded data removed]",
            "text/plain": [
              "<Figure size 720x504 with 1 Axes>"
            ]
          },
          "metadata": {}
        }
      ]
    },
    {
      "cell_type": "markdown",
      "source": [
        "###-\tKhách hàng có thời lượng liên lạc lâu hơn thời gian trung bình có tỉ lệ chuyển đổi cao hơn so với các khách hàng có thời gian liên lạc thấp hơn thời gian trung bình\n",
        "#### Thời gian liên lạc với khách hàng càng lâu thì tỉ lệ chuyển đổi càng cao \n",
        "#### Action: Ngân hàng nên kéo dài thời gian liên lạc với khách hàng bằng cách tăng tương tác với họ thông qua các câu hỏi hay. Có thể xây dựng các bảng hỏi cho các chiến dịch sau đó\n"
      ],
      "metadata": {
        "id": "K-rImE-yMaCY"
      }
    },
    {
      "cell_type": "markdown",
      "source": [
        "###Conversion rates by number of contact"
      ],
      "metadata": {
        "id": "xljPJ93ePrJu"
      }
    },
    {
      "cell_type": "code",
      "source": [
        "conversions_by_num_contacts = bank.groupby(by='campaign')['conversion'].sum()/bank.groupby(by='campaign')['conversion'].count() * 100.0\n",
        "conversions_by_num_contacts"
      ],
      "metadata": {
        "colab": {
          "base_uri": "https://localhost:8080/"
        },
        "id": "h89Aby3yL3iX",
        "outputId": "dfa446d9-e580-47e3-cfcf-2a64e2c9c01a"
      },
      "execution_count": 49,
      "outputs": [
        {
          "output_type": "execute_result",
          "data": {
            "text/plain": [
              "campaign\n",
              "1     13.037314\n",
              "2     11.459122\n",
              "3     10.749064\n",
              "4      9.396226\n",
              "5      7.504690\n",
              "6      7.660878\n",
              "7      6.041335\n",
              "8      4.250000\n",
              "9      6.007067\n",
              "10     5.333333\n",
              "11     6.779661\n",
              "12     2.400000\n",
              "13     4.347826\n",
              "14     1.449275\n",
              "15     3.921569\n",
              "16     0.000000\n",
              "17     6.896552\n",
              "18     0.000000\n",
              "19     0.000000\n",
              "20     0.000000\n",
              "21     0.000000\n",
              "22     0.000000\n",
              "23     6.250000\n",
              "24     0.000000\n",
              "25     0.000000\n",
              "26     0.000000\n",
              "27     0.000000\n",
              "28     0.000000\n",
              "29     0.000000\n",
              "30     0.000000\n",
              "31     0.000000\n",
              "32     0.000000\n",
              "33     0.000000\n",
              "34     0.000000\n",
              "35     0.000000\n",
              "37     0.000000\n",
              "39     0.000000\n",
              "40     0.000000\n",
              "41     0.000000\n",
              "42     0.000000\n",
              "43     0.000000\n",
              "56     0.000000\n",
              "Name: conversion, dtype: float64"
            ]
          },
          "metadata": {},
          "execution_count": 49
        }
      ]
    },
    {
      "cell_type": "code",
      "source": [
        "ax = conversions_by_num_contacts.plot(kind='bar',figsize=(10, 7),title='Conversion Rates by Number of Contacts',grid=True,color='skyblue')\n",
        "ax.set_xlabel('Number of Contacts')\n",
        "ax.set_ylabel('Conversion Rate (%)')\n",
        "plt.show()"
      ],
      "metadata": {
        "colab": {
          "base_uri": "https://localhost:8080/",
          "height": 468
        },
        "id": "BQfe7niKQSkx",
        "outputId": "abed55db-798f-4d99-d51c-8a818959ed44"
      },
      "execution_count": 50,
      "outputs": [
        {
          "output_type": "display_data",
          "data": {
            "image/png": "[encoded data removed]",
            "text/plain": [
              "<Figure size 720x504 with 1 Axes>"
            ]
          },
          "metadata": {}
        }
      ]
    },
    {
      "cell_type": "markdown",
      "source": [
        "###-\tTỉ lệ chuyển đổi cao nhất ở nhóm khách hàng với 1 lần liên lạc và có xu hướng giảm dần khi khách hàng được liên lạc thưởng xuyên trong chiến dịch đó. Điều này có thể do việc ngân hàng gọi nhiều lần sẽ khiến họ cảm thấy bị làm phiền và không còn hứng thú với các dịch vụ mà ngân hàng giới thiệu trong cuộc gọi. \n",
        "###Action: Hạn chế việc liên lạc thường xuyên với khách hàng. Có thể áp dụng chính sách không gọi quá 4 cuộc gọi với 1 khách hàng.\n"
      ],
      "metadata": {
        "id": "cTLLDlsYQ4-i"
      }
    },
    {
      "cell_type": "markdown",
      "source": [
        "###Poutcome"
      ],
      "metadata": {
        "id": "ORRBRqryBQEj"
      }
    },
    {
      "cell_type": "code",
      "source": [
        "fig, ax = plt.subplots()\n",
        "fig.set_size_inches(10, 7)\n",
        "sns.countplot(x = 'poutcome', data = bank)\n",
        "ax.set_xlabel('Outcome', fontsize=10)\n",
        "ax.set_ylabel('Count', fontsize=10)\n",
        "ax.set_title('Previous Outcome', fontsize=10)\n",
        "ax.tick_params(labelsize=10)\n",
        "sns.despine()"
      ],
      "metadata": {
        "colab": {
          "base_uri": "https://localhost:8080/",
          "height": 459
        },
        "id": "a8xbiJncCeW8",
        "outputId": "f96f0fbf-eca8-46e1-e5b9-cb1b25fac8ce"
      },
      "execution_count": 54,
      "outputs": [
        {
          "output_type": "display_data",
          "data": {
            "image/png": "[encoded data removed]",
            "text/plain": [
              "<Figure size 720x504 with 1 Axes>"
            ]
          },
          "metadata": {}
        }
      ]
    },
    {
      "cell_type": "markdown",
      "source": [
        "# Khách hàng tham gia chiến dịch lần này chủ yếu là khách hàng mới chỉ có một số ít là khách hàng của các chiến dịch trước"
      ],
      "metadata": {
        "id": "XHJMvrgOCuD9"
      }
    },
    {
      "cell_type": "code",
      "source": [
        "get_visualization(\"poutcome\", 'y')"
      ],
      "metadata": {
        "colab": {
          "base_uri": "https://localhost:8080/",
          "height": 509
        },
        "id": "HEYCIcVuEIPM",
        "outputId": "6db127bd-8813-4eca-8632-20c454d39d8a"
      },
      "execution_count": 53,
      "outputs": [
        {
          "output_type": "display_data",
          "data": {
            "image/png": "[encoded data removed]",
            "text/plain": [
              "<Figure size 720x504 with 1 Axes>"
            ]
          },
          "metadata": {}
        }
      ]
    },
    {
      "cell_type": "markdown",
      "source": [
        "###Từ biểu đồ ta thấy, với nhóm khách hàng tham gia từ chiến dịch trước có tỉ lệ đăng ký cao ở chiến dịch lần này, đặc biệt là nhóm khách hàng đồng ý trong chiến dịch trước.\n",
        "###=> Action: Tăng cường tiếp thị đến nhóm khách hàng đã tham gia ở các chiến dịch trước"
      ],
      "metadata": {
        "id": "r3kQF1JqEoTf"
      }
    }
  ],
  "metadata": {
    "colab": {
      "collapsed_sections": [],
      "name": "bank_analysis_final 2",
      "provenance": []
    },
    "kernelspec": {
      "display_name": "Python 3",
      "name": "python3"
    },
    "language_info": {
      "name": "python"
    }
  },
  "nbformat": 4,
  "nbformat_minor": 0
}